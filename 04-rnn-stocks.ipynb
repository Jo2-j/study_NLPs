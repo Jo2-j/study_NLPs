{
 "cells": [
  {
   "cell_type": "markdown",
   "id": "725c928a",
   "metadata": {
    "papermill": {
     "duration": 0.003903,
     "end_time": "2025-02-04T08:51:41.935629",
     "exception": false,
     "start_time": "2025-02-04T08:51:41.931726",
     "status": "completed"
    },
    "tags": []
   },
   "source": [
    "## Simple RNN\n",
    "- dataset : https://www.kaggle.com/datasets/iveeaten3223times/massive-yahoo-finance-dataset/\n",
    "- 연속형(시계열, 문장 등) 데이터 처리에 유리"
   ]
  },
  {
   "cell_type": "markdown",
   "id": "5210703d",
   "metadata": {
    "papermill": {
     "duration": 0.002888,
     "end_time": "2025-02-04T08:51:41.941903",
     "exception": false,
     "start_time": "2025-02-04T08:51:41.939015",
     "status": "completed"
    },
    "tags": []
   },
   "source": [
    "### 데이터 관련"
   ]
  },
  {
   "cell_type": "code",
   "execution_count": 1,
   "id": "3e675b33",
   "metadata": {
    "execution": {
     "iopub.execute_input": "2025-02-04T08:51:41.948881Z",
     "iopub.status.busy": "2025-02-04T08:51:41.948630Z",
     "iopub.status.idle": "2025-02-04T08:51:43.981700Z",
     "shell.execute_reply": "2025-02-04T08:51:43.980949Z"
    },
    "papermill": {
     "duration": 2.038405,
     "end_time": "2025-02-04T08:51:43.983403",
     "exception": false,
     "start_time": "2025-02-04T08:51:41.944998",
     "status": "completed"
    },
    "tags": []
   },
   "outputs": [],
   "source": [
    "# 데이터 로드\n",
    "import pandas as pd\n",
    "# dfStock = pd.read_csv('/kaggle/input/massive-yahoo-finance-dataset/stock_details_5_years.csv')\n",
    "dfStockAll = pd.read_csv('/kaggle/input/massive-yahoo-finance-dataset/stock_details_5_years.csv')\n",
    "# dfStock.head(3)"
   ]
  },
  {
   "cell_type": "code",
   "execution_count": 2,
   "id": "49b0b837",
   "metadata": {
    "execution": {
     "iopub.execute_input": "2025-02-04T08:51:43.990821Z",
     "iopub.status.busy": "2025-02-04T08:51:43.990599Z",
     "iopub.status.idle": "2025-02-04T08:51:44.043032Z",
     "shell.execute_reply": "2025-02-04T08:51:44.042259Z"
    },
    "papermill": {
     "duration": 0.057395,
     "end_time": "2025-02-04T08:51:44.044262",
     "exception": false,
     "start_time": "2025-02-04T08:51:43.986867",
     "status": "completed"
    },
    "tags": []
   },
   "outputs": [],
   "source": [
    "# 특정 회사 시계열 가져오기\n",
    "\n",
    "selCom = 'AAPL'\n",
    "dfStock = dfStockAll[dfStockAll['Company'] == selCom].copy()"
   ]
  },
  {
   "cell_type": "markdown",
   "id": "9f9ae4d5",
   "metadata": {
    "papermill": {
     "duration": 0.002819,
     "end_time": "2025-02-04T08:51:44.050196",
     "exception": false,
     "start_time": "2025-02-04T08:51:44.047377",
     "status": "completed"
    },
    "tags": []
   },
   "source": [
    "### 데이터 전처리"
   ]
  },
  {
   "cell_type": "code",
   "execution_count": 3,
   "id": "16dae2ad",
   "metadata": {
    "execution": {
     "iopub.execute_input": "2025-02-04T08:51:44.057211Z",
     "iopub.status.busy": "2025-02-04T08:51:44.056957Z",
     "iopub.status.idle": "2025-02-04T08:51:44.078284Z",
     "shell.execute_reply": "2025-02-04T08:51:44.077487Z"
    },
    "papermill": {
     "duration": 0.026098,
     "end_time": "2025-02-04T08:51:44.079555",
     "exception": false,
     "start_time": "2025-02-04T08:51:44.053457",
     "status": "completed"
    },
    "tags": []
   },
   "outputs": [
    {
     "data": {
      "text/plain": [
       "datetime64[ns, UTC]"
      ]
     },
     "execution_count": 3,
     "metadata": {},
     "output_type": "execute_result"
    }
   ],
   "source": [
    "# 날짜를 dateitme 변환\n",
    "dfStock['Date'] = pd.to_datetime(dfStock['Date'], utc=True)\n",
    "dfStock['Date'].dtype"
   ]
  },
  {
   "cell_type": "code",
   "execution_count": 4,
   "id": "fbe68262",
   "metadata": {
    "execution": {
     "iopub.execute_input": "2025-02-04T08:51:44.086449Z",
     "iopub.status.busy": "2025-02-04T08:51:44.086238Z",
     "iopub.status.idle": "2025-02-04T08:51:44.088996Z",
     "shell.execute_reply": "2025-02-04T08:51:44.088425Z"
    },
    "papermill": {
     "duration": 0.007522,
     "end_time": "2025-02-04T08:51:44.090174",
     "exception": false,
     "start_time": "2025-02-04T08:51:44.082652",
     "status": "completed"
    },
    "tags": []
   },
   "outputs": [],
   "source": [
    "# dfStock.info()"
   ]
  },
  {
   "cell_type": "code",
   "execution_count": 5,
   "id": "cbf6c864",
   "metadata": {
    "execution": {
     "iopub.execute_input": "2025-02-04T08:51:44.096866Z",
     "iopub.status.busy": "2025-02-04T08:51:44.096675Z",
     "iopub.status.idle": "2025-02-04T08:51:45.118854Z",
     "shell.execute_reply": "2025-02-04T08:51:45.117998Z"
    },
    "papermill": {
     "duration": 1.026987,
     "end_time": "2025-02-04T08:51:45.120241",
     "exception": false,
     "start_time": "2025-02-04T08:51:44.093254",
     "status": "completed"
    },
    "tags": []
   },
   "outputs": [
    {
     "data": {
      "text/html": [
       "<div>\n",
       "<style scoped>\n",
       "    .dataframe tbody tr th:only-of-type {\n",
       "        vertical-align: middle;\n",
       "    }\n",
       "\n",
       "    .dataframe tbody tr th {\n",
       "        vertical-align: top;\n",
       "    }\n",
       "\n",
       "    .dataframe thead th {\n",
       "        text-align: right;\n",
       "    }\n",
       "</style>\n",
       "<table border=\"1\" class=\"dataframe\">\n",
       "  <thead>\n",
       "    <tr style=\"text-align: right;\">\n",
       "      <th></th>\n",
       "      <th>Date</th>\n",
       "      <th>Open</th>\n",
       "      <th>High</th>\n",
       "      <th>Low</th>\n",
       "      <th>Close</th>\n",
       "      <th>Volume</th>\n",
       "      <th>Dividends</th>\n",
       "      <th>Stock Splits</th>\n",
       "      <th>Company</th>\n",
       "    </tr>\n",
       "  </thead>\n",
       "  <tbody>\n",
       "    <tr>\n",
       "      <th>0</th>\n",
       "      <td>2018-11-29 05:00:00+00:00</td>\n",
       "      <td>-1.598199</td>\n",
       "      <td>-1.611253</td>\n",
       "      <td>-1.611061</td>\n",
       "      <td>-1.615618</td>\n",
       "      <td>167080000</td>\n",
       "      <td>0.0</td>\n",
       "      <td>0.0</td>\n",
       "      <td>AAPL</td>\n",
       "    </tr>\n",
       "    <tr>\n",
       "      <th>458</th>\n",
       "      <td>2018-11-30 05:00:00+00:00</td>\n",
       "      <td>-1.610310</td>\n",
       "      <td>-1.623753</td>\n",
       "      <td>-1.614516</td>\n",
       "      <td>-1.620572</td>\n",
       "      <td>158126000</td>\n",
       "      <td>0.0</td>\n",
       "      <td>0.0</td>\n",
       "      <td>AAPL</td>\n",
       "    </tr>\n",
       "    <tr>\n",
       "      <th>916</th>\n",
       "      <td>2018-12-03 05:00:00+00:00</td>\n",
       "      <td>-1.589000</td>\n",
       "      <td>-1.600423</td>\n",
       "      <td>-1.592958</td>\n",
       "      <td>-1.588704</td>\n",
       "      <td>163210000</td>\n",
       "      <td>0.0</td>\n",
       "      <td>0.0</td>\n",
       "      <td>AAPL</td>\n",
       "    </tr>\n",
       "  </tbody>\n",
       "</table>\n",
       "</div>"
      ],
      "text/plain": [
       "                         Date      Open      High       Low     Close  \\\n",
       "0   2018-11-29 05:00:00+00:00 -1.598199 -1.611253 -1.611061 -1.615618   \n",
       "458 2018-11-30 05:00:00+00:00 -1.610310 -1.623753 -1.614516 -1.620572   \n",
       "916 2018-12-03 05:00:00+00:00 -1.589000 -1.600423 -1.592958 -1.588704   \n",
       "\n",
       "        Volume  Dividends  Stock Splits Company  \n",
       "0    167080000        0.0           0.0    AAPL  \n",
       "458  158126000        0.0           0.0    AAPL  \n",
       "916  163210000        0.0           0.0    AAPL  "
      ]
     },
     "execution_count": 5,
     "metadata": {},
     "output_type": "execute_result"
    }
   ],
   "source": [
    "# 스케일링\n",
    "from sklearn.preprocessing import StandardScaler\n",
    "scaler = StandardScaler()\n",
    "dfStock[['Open', 'High', 'Low', 'Close']] = scaler.fit_transform(dfStock[['Open', 'High', 'Low', 'Close']])\n",
    "dfStock.head(3)"
   ]
  },
  {
   "cell_type": "code",
   "execution_count": 6,
   "id": "d9e71f35",
   "metadata": {
    "execution": {
     "iopub.execute_input": "2025-02-04T08:51:45.128249Z",
     "iopub.status.busy": "2025-02-04T08:51:45.127873Z",
     "iopub.status.idle": "2025-02-04T08:51:48.385538Z",
     "shell.execute_reply": "2025-02-04T08:51:48.384679Z"
    },
    "papermill": {
     "duration": 3.263157,
     "end_time": "2025-02-04T08:51:48.386991",
     "exception": false,
     "start_time": "2025-02-04T08:51:45.123834",
     "status": "completed"
    },
    "tags": []
   },
   "outputs": [
    {
     "name": "stderr",
     "output_type": "stream",
     "text": [
      "Generating Sequences: 100%|██████████| 1253/1253 [00:00<00:00, 1217387.75it/s]\n"
     ]
    },
    {
     "data": {
      "text/plain": [
       "((1253, 5), (1253,))"
      ]
     },
     "execution_count": 6,
     "metadata": {},
     "output_type": "execute_result"
    }
   ],
   "source": [
    "# 시계열 데이터 생성\n",
    "import numpy as np\n",
    "import torch\n",
    "\n",
    "sequence_length = 5 # 5일 단\n",
    "\n",
    "from tqdm import tqdm\n",
    "\n",
    "def create_sequences(data, seq_length):\n",
    "    xs = []\n",
    "    ys = []\n",
    "    # for i in range(len(data) - seq_length):\n",
    "    for i in tqdm(range(len(data) - seq_length), desc='Generating Sequences'):\n",
    "        x = data[i:i+seq_length]\n",
    "        y = data[i+seq_length]\n",
    "        xs.append(x)\n",
    "        ys.append(y)\n",
    "    return np.array(xs), np.array(ys) # features, label\n",
    "\n",
    "features, label = create_sequences(dfStock['Close'].values, sequence_length)\n",
    "features.shape, label.shape\n",
    "\n",
    "\n",
    "# def create_sequences(data, seq_length):\n",
    "#     xs = []\n",
    "#     ys = []\n",
    "#     # data를 numpy 배열로 변환\n",
    "#     data_array = data.values\n",
    "    \n",
    "#     for i in tqdm(range(len(data_array) - seq_length), desc='Generating Sequences'):\n",
    "#         x = data_array[i:i+seq_length]\n",
    "#         y = data_array[i+seq_length]\n",
    "#         xs.append(x)\n",
    "#         ys.append(y)\n",
    "    \n",
    "#     return np.array(xs), np.array(ys)\n"
   ]
  },
  {
   "cell_type": "code",
   "execution_count": 7,
   "id": "4597b858",
   "metadata": {
    "execution": {
     "iopub.execute_input": "2025-02-04T08:51:48.400928Z",
     "iopub.status.busy": "2025-02-04T08:51:48.400587Z",
     "iopub.status.idle": "2025-02-04T08:51:48.436938Z",
     "shell.execute_reply": "2025-02-04T08:51:48.436209Z"
    },
    "papermill": {
     "duration": 0.044664,
     "end_time": "2025-02-04T08:51:48.438298",
     "exception": false,
     "start_time": "2025-02-04T08:51:48.393634",
     "status": "completed"
    },
    "tags": []
   },
   "outputs": [
    {
     "data": {
      "text/plain": [
       "(torch.Size([1253, 5, 1]), torch.Size([1253, 1]))"
      ]
     },
     "execution_count": 7,
     "metadata": {},
     "output_type": "execute_result"
    }
   ],
   "source": [
    "# 텐서로 변환\n",
    "features_tensor = torch.tensor(features, dtype=torch.float32).unsqueeze(-1)\n",
    "\n",
    "label_tensor = torch.tensor(label, dtype=torch.float32).unsqueeze(-1)\n",
    "\n",
    "features_tensor.shape, label_tensor.shape"
   ]
  },
  {
   "cell_type": "markdown",
   "id": "ede16e6a",
   "metadata": {
    "papermill": {
     "duration": 0.003478,
     "end_time": "2025-02-04T08:51:48.445471",
     "exception": false,
     "start_time": "2025-02-04T08:51:48.441993",
     "status": "completed"
    },
    "tags": []
   },
   "source": [
    "### 모델 관련"
   ]
  },
  {
   "cell_type": "code",
   "execution_count": 8,
   "id": "eb914062",
   "metadata": {
    "execution": {
     "iopub.execute_input": "2025-02-04T08:51:48.453410Z",
     "iopub.status.busy": "2025-02-04T08:51:48.453086Z",
     "iopub.status.idle": "2025-02-04T08:51:48.469082Z",
     "shell.execute_reply": "2025-02-04T08:51:48.468415Z"
    },
    "papermill": {
     "duration": 0.021432,
     "end_time": "2025-02-04T08:51:48.470403",
     "exception": false,
     "start_time": "2025-02-04T08:51:48.448971",
     "status": "completed"
    },
    "tags": []
   },
   "outputs": [
    {
     "data": {
      "text/plain": [
       "SimpleRNN(\n",
       "  (rnn): RNN(1, 5, batch_first=True)\n",
       "  (fc): Linear(in_features=5, out_features=1, bias=True)\n",
       ")"
      ]
     },
     "execution_count": 8,
     "metadata": {},
     "output_type": "execute_result"
    }
   ],
   "source": [
    "# RNN 모델 정의\n",
    "import torch.nn as nn\n",
    "class SimpleRNN(nn.Module):\n",
    "    def __init__(self, input_size, hidden_size, output_size):\n",
    "        super(SimpleRNN, self).__init__()\n",
    "        self.rnn = nn.RNN(input_size, hidden_size, batch_first=True)\n",
    "        self.fc = nn.Linear(hidden_size, output_size)\n",
    "    def forward(self, x):\n",
    "        h0 = torch.zeros(1, x.size(0), hidden_size)\n",
    "        out, _ = self.rnn(x, h0)\n",
    "        out = self.fc(out[:, -1, :])\n",
    "        return out\n",
    "\n",
    "input_size = 1 # Row 단위 갯수\n",
    "hidden_size = 5 # 은닉층 갯수\n",
    "output_size = 1 \n",
    "\n",
    "model = SimpleRNN(input_size, hidden_size, output_size)\n",
    "model"
   ]
  },
  {
   "cell_type": "code",
   "execution_count": 9,
   "id": "7c297df2",
   "metadata": {
    "execution": {
     "iopub.execute_input": "2025-02-04T08:51:48.478638Z",
     "iopub.status.busy": "2025-02-04T08:51:48.478335Z",
     "iopub.status.idle": "2025-02-04T08:51:52.351485Z",
     "shell.execute_reply": "2025-02-04T08:51:52.350607Z"
    },
    "papermill": {
     "duration": 3.878963,
     "end_time": "2025-02-04T08:51:52.353065",
     "exception": false,
     "start_time": "2025-02-04T08:51:48.474102",
     "status": "completed"
    },
    "tags": []
   },
   "outputs": [
    {
     "name": "stderr",
     "output_type": "stream",
     "text": [
      "%%%%%%%%%%%%%%%%%%%%%%%%%%%%%%%%%%%%%%%%%%%%%%%%%%%%%%%%%%%%%%%%%%%%%%%%%%%%%%%%:  87%|████████▋ | 87/100 [00:00<00:00, 278.79it/s]"
     ]
    },
    {
     "name": "stdout",
     "output_type": "stream",
     "text": [
      "Epoch [10 / 100], Loss : 0.54460\n",
      "Epoch [20 / 100], Loss : 0.10599\n",
      "Epoch [30 / 100], Loss : 0.03367\n",
      "Epoch [40 / 100], Loss : 0.02318\n",
      "Epoch [50 / 100], Loss : 0.01802\n",
      "Epoch [60 / 100], Loss : 0.00952\n",
      "Epoch [70 / 100], Loss : 0.00731\n",
      "Epoch [80 / 100], Loss : 0.00610\n",
      "Epoch [90 / 100], Loss : 0.00502\n"
     ]
    },
    {
     "name": "stderr",
     "output_type": "stream",
     "text": [
      "%%%%%%%%%%%%%%%%%%%%%%%%%%%%%%%%%%%%%%%%%%%%%%%%%%%%%%%%%%%%%%%%%%%%%%%%%%%%%%%%: 100%|██████████| 100/100 [00:00<00:00, 236.32it/s]"
     ]
    },
    {
     "name": "stdout",
     "output_type": "stream",
     "text": [
      "Epoch [100 / 100], Loss : 0.00435\n"
     ]
    },
    {
     "name": "stderr",
     "output_type": "stream",
     "text": [
      "\n"
     ]
    }
   ],
   "source": [
    "# 모델 학습\n",
    "import torch.optim as optim\n",
    "\n",
    "criterion = nn.MSELoss()\n",
    "optimizer = optim.AdamW(model.parameters(), lr=0.01)\n",
    "\n",
    "epochs = 100\n",
    "\n",
    "for epoch in tqdm(range(epochs), desc='%%%%%%%%%%%%%%%%%%%%%%%%%%%%%%%%%%%%%%%%%%%%%%%%%%%%%%%%%%%%%%%%%%%%%%%%%%%%%%%%'):\n",
    "    model.train()\n",
    "    outputs = model(features_tensor)\n",
    "    optimizer.zero_grad()\n",
    "    loss = criterion(outputs, label_tensor) # Error Rate\n",
    "    loss.backward()\n",
    "    optimizer.step()\n",
    "    if (epoch+1) % 10 == 0 : # 10회에 1번 출력\n",
    "        print(f'Epoch [{epoch+1} / {epochs}], Loss : {loss.item():.5f}')"
   ]
  },
  {
   "cell_type": "code",
   "execution_count": 10,
   "id": "6a947364",
   "metadata": {
    "execution": {
     "iopub.execute_input": "2025-02-04T08:51:52.363836Z",
     "iopub.status.busy": "2025-02-04T08:51:52.363463Z",
     "iopub.status.idle": "2025-02-04T08:51:52.383607Z",
     "shell.execute_reply": "2025-02-04T08:51:52.382980Z"
    },
    "papermill": {
     "duration": 0.02642,
     "end_time": "2025-02-04T08:51:52.384803",
     "exception": false,
     "start_time": "2025-02-04T08:51:52.358383",
     "status": "completed"
    },
    "tags": []
   },
   "outputs": [
    {
     "data": {
      "text/plain": [
       "OrderedDict([('rnn.weight_ih_l0',\n",
       "              tensor([[-0.6148],\n",
       "                      [-0.1985],\n",
       "                      [ 0.4659],\n",
       "                      [-0.2230],\n",
       "                      [ 0.1555]])),\n",
       "             ('rnn.weight_hh_l0',\n",
       "              tensor([[-0.0086, -0.2849, -0.2264,  0.0088, -0.1651],\n",
       "                      [-0.0652,  0.4410, -0.3904,  0.6278,  0.2228],\n",
       "                      [-0.1677,  0.0452,  0.4396,  0.1392,  0.5979],\n",
       "                      [ 0.3211,  0.2931, -0.3857,  0.2118,  0.3912],\n",
       "                      [-0.2197,  0.2903,  0.2204,  0.6185, -0.4114]])),\n",
       "             ('rnn.bias_ih_l0',\n",
       "              tensor([ 0.1577, -0.0856,  0.0236,  0.1585,  0.4550])),\n",
       "             ('rnn.bias_hh_l0',\n",
       "              tensor([ 0.3669,  0.0918, -0.0698,  0.3423,  0.5219])),\n",
       "             ('fc.weight',\n",
       "              tensor([[-0.6481, -0.5865,  0.6862, -0.1350, -0.0336]])),\n",
       "             ('fc.bias', tensor([0.0582]))])"
      ]
     },
     "execution_count": 10,
     "metadata": {},
     "output_type": "execute_result"
    }
   ],
   "source": [
    "model.state_dict()"
   ]
  },
  {
   "cell_type": "markdown",
   "id": "eeed4d7d",
   "metadata": {
    "papermill": {
     "duration": 0.003957,
     "end_time": "2025-02-04T08:51:52.393001",
     "exception": false,
     "start_time": "2025-02-04T08:51:52.389044",
     "status": "completed"
    },
    "tags": []
   },
   "source": [
    "### 평가 관련"
   ]
  },
  {
   "cell_type": "code",
   "execution_count": 11,
   "id": "e244a2f2",
   "metadata": {
    "execution": {
     "iopub.execute_input": "2025-02-04T08:51:52.401861Z",
     "iopub.status.busy": "2025-02-04T08:51:52.401627Z",
     "iopub.status.idle": "2025-02-04T08:51:52.406162Z",
     "shell.execute_reply": "2025-02-04T08:51:52.405331Z"
    },
    "papermill": {
     "duration": 0.010592,
     "end_time": "2025-02-04T08:51:52.407524",
     "exception": false,
     "start_time": "2025-02-04T08:51:52.396932",
     "status": "completed"
    },
    "tags": []
   },
   "outputs": [
    {
     "data": {
      "text/plain": [
       "SimpleRNN(\n",
       "  (rnn): RNN(1, 5, batch_first=True)\n",
       "  (fc): Linear(in_features=5, out_features=1, bias=True)\n",
       ")"
      ]
     },
     "execution_count": 11,
     "metadata": {},
     "output_type": "execute_result"
    }
   ],
   "source": [
    "model.eval()"
   ]
  },
  {
   "cell_type": "code",
   "execution_count": 12,
   "id": "27d2f33c",
   "metadata": {
    "execution": {
     "iopub.execute_input": "2025-02-04T08:51:52.416487Z",
     "iopub.status.busy": "2025-02-04T08:51:52.416287Z",
     "iopub.status.idle": "2025-02-04T08:51:52.422742Z",
     "shell.execute_reply": "2025-02-04T08:51:52.421934Z"
    },
    "papermill": {
     "duration": 0.012243,
     "end_time": "2025-02-04T08:51:52.423852",
     "exception": false,
     "start_time": "2025-02-04T08:51:52.411609",
     "status": "completed"
    },
    "tags": []
   },
   "outputs": [
    {
     "data": {
      "text/plain": [
       "(tensor([[-1.5485],\n",
       "         [-1.5627],\n",
       "         [-1.5658],\n",
       "         [-1.5683],\n",
       "         [-1.5683]]),\n",
       " tensor([[-1.6721],\n",
       "         [-1.6664],\n",
       "         [-1.6714],\n",
       "         [-1.6690],\n",
       "         [-1.6595]]))"
      ]
     },
     "execution_count": 12,
     "metadata": {},
     "output_type": "execute_result"
    }
   ],
   "source": [
    "with torch.no_grad():\n",
    "    predicted = model(features_tensor[:5])\n",
    "predicted, label_tensor[:5]"
   ]
  },
  {
   "cell_type": "code",
   "execution_count": null,
   "id": "e359bea9",
   "metadata": {
    "papermill": {
     "duration": 0.003994,
     "end_time": "2025-02-04T08:51:52.432045",
     "exception": false,
     "start_time": "2025-02-04T08:51:52.428051",
     "status": "completed"
    },
    "tags": []
   },
   "outputs": [],
   "source": []
  }
 ],
 "metadata": {
  "kaggle": {
   "accelerator": "nvidiaTeslaT4",
   "dataSources": [
    {
     "datasetId": 4081618,
     "sourceId": 7084494,
     "sourceType": "datasetVersion"
    }
   ],
   "dockerImageVersionId": 30840,
   "isGpuEnabled": true,
   "isInternetEnabled": true,
   "language": "python",
   "sourceType": "notebook"
  },
  "kernelspec": {
   "display_name": "Python 3",
   "language": "python",
   "name": "python3"
  },
  "language_info": {
   "codemirror_mode": {
    "name": "ipython",
    "version": 3
   },
   "file_extension": ".py",
   "mimetype": "text/x-python",
   "name": "python",
   "nbconvert_exporter": "python",
   "pygments_lexer": "ipython3",
   "version": "3.10.12"
  },
  "papermill": {
   "default_parameters": {},
   "duration": 14.513001,
   "end_time": "2025-02-04T08:51:53.855803",
   "environment_variables": {},
   "exception": null,
   "input_path": "__notebook__.ipynb",
   "output_path": "__notebook__.ipynb",
   "parameters": {},
   "start_time": "2025-02-04T08:51:39.342802",
   "version": "2.6.0"
  }
 },
 "nbformat": 4,
 "nbformat_minor": 5
}
