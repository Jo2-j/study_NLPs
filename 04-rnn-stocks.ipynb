{
 "cells": [
  {
   "cell_type": "markdown",
   "id": "16fcb3c1",
   "metadata": {
    "papermill": {
     "duration": 0.003663,
     "end_time": "2025-02-04T08:43:34.535344",
     "exception": false,
     "start_time": "2025-02-04T08:43:34.531681",
     "status": "completed"
    },
    "tags": []
   },
   "source": [
    "## Simple RNN\n",
    "- dataset : https://www.kaggle.com/datasets/iveeaten3223times/massive-yahoo-finance-dataset/\n",
    "- 연속형(시계열, 문장 등) 데이터 처리에 유리"
   ]
  },
  {
   "cell_type": "markdown",
   "id": "2de3d9f5",
   "metadata": {
    "papermill": {
     "duration": 0.002918,
     "end_time": "2025-02-04T08:43:34.541542",
     "exception": false,
     "start_time": "2025-02-04T08:43:34.538624",
     "status": "completed"
    },
    "tags": []
   },
   "source": [
    "### 데이터 관련"
   ]
  },
  {
   "cell_type": "code",
   "execution_count": 1,
   "id": "b7eeb3be",
   "metadata": {
    "execution": {
     "iopub.execute_input": "2025-02-04T08:43:34.548336Z",
     "iopub.status.busy": "2025-02-04T08:43:34.548092Z",
     "iopub.status.idle": "2025-02-04T08:43:37.344559Z",
     "shell.execute_reply": "2025-02-04T08:43:37.343844Z"
    },
    "papermill": {
     "duration": 2.801653,
     "end_time": "2025-02-04T08:43:37.346168",
     "exception": false,
     "start_time": "2025-02-04T08:43:34.544515",
     "status": "completed"
    },
    "tags": []
   },
   "outputs": [],
   "source": [
    "# 데이터 로드\n",
    "import pandas as pd\n",
    "# dfStock = pd.read_csv('/kaggle/input/massive-yahoo-finance-dataset/stock_details_5_years.csv')\n",
    "dfStockAll = pd.read_csv('/kaggle/input/massive-yahoo-finance-dataset/stock_details_5_years.csv')\n",
    "# dfStock.head(3)"
   ]
  },
  {
   "cell_type": "code",
   "execution_count": 2,
   "id": "b1acfedd",
   "metadata": {
    "execution": {
     "iopub.execute_input": "2025-02-04T08:43:37.353659Z",
     "iopub.status.busy": "2025-02-04T08:43:37.353409Z",
     "iopub.status.idle": "2025-02-04T08:43:37.415242Z",
     "shell.execute_reply": "2025-02-04T08:43:37.414701Z"
    },
    "papermill": {
     "duration": 0.066834,
     "end_time": "2025-02-04T08:43:37.416479",
     "exception": false,
     "start_time": "2025-02-04T08:43:37.349645",
     "status": "completed"
    },
    "tags": []
   },
   "outputs": [],
   "source": [
    "# 특정 회사 시계열 가져오기\n",
    "\n",
    "selCom = 'AAPL'\n",
    "dfStock = dfStockAll[dfStockAll['Company'] == selCom].copy()"
   ]
  },
  {
   "cell_type": "markdown",
   "id": "b4953f00",
   "metadata": {
    "papermill": {
     "duration": 0.002815,
     "end_time": "2025-02-04T08:43:37.422505",
     "exception": false,
     "start_time": "2025-02-04T08:43:37.419690",
     "status": "completed"
    },
    "tags": []
   },
   "source": [
    "### 데이터 전처리"
   ]
  },
  {
   "cell_type": "code",
   "execution_count": 3,
   "id": "d6d48ef3",
   "metadata": {
    "execution": {
     "iopub.execute_input": "2025-02-04T08:43:37.429094Z",
     "iopub.status.busy": "2025-02-04T08:43:37.428880Z",
     "iopub.status.idle": "2025-02-04T08:43:37.451634Z",
     "shell.execute_reply": "2025-02-04T08:43:37.450948Z"
    },
    "papermill": {
     "duration": 0.027385,
     "end_time": "2025-02-04T08:43:37.452789",
     "exception": false,
     "start_time": "2025-02-04T08:43:37.425404",
     "status": "completed"
    },
    "tags": []
   },
   "outputs": [
    {
     "data": {
      "text/plain": [
       "datetime64[ns, UTC]"
      ]
     },
     "execution_count": 3,
     "metadata": {},
     "output_type": "execute_result"
    }
   ],
   "source": [
    "# 날짜를 dateitme 변환\n",
    "dfStock['Date'] = pd.to_datetime(dfStock['Date'], utc=True)\n",
    "dfStock['Date'].dtype"
   ]
  },
  {
   "cell_type": "code",
   "execution_count": 4,
   "id": "8bd55074",
   "metadata": {
    "execution": {
     "iopub.execute_input": "2025-02-04T08:43:37.459828Z",
     "iopub.status.busy": "2025-02-04T08:43:37.459604Z",
     "iopub.status.idle": "2025-02-04T08:43:37.462538Z",
     "shell.execute_reply": "2025-02-04T08:43:37.461854Z"
    },
    "papermill": {
     "duration": 0.007696,
     "end_time": "2025-02-04T08:43:37.463586",
     "exception": false,
     "start_time": "2025-02-04T08:43:37.455890",
     "status": "completed"
    },
    "tags": []
   },
   "outputs": [],
   "source": [
    "# dfStock.info()"
   ]
  },
  {
   "cell_type": "code",
   "execution_count": 5,
   "id": "aae9c244",
   "metadata": {
    "execution": {
     "iopub.execute_input": "2025-02-04T08:43:37.470200Z",
     "iopub.status.busy": "2025-02-04T08:43:37.469998Z",
     "iopub.status.idle": "2025-02-04T08:43:39.555432Z",
     "shell.execute_reply": "2025-02-04T08:43:39.554563Z"
    },
    "papermill": {
     "duration": 2.090237,
     "end_time": "2025-02-04T08:43:39.556811",
     "exception": false,
     "start_time": "2025-02-04T08:43:37.466574",
     "status": "completed"
    },
    "tags": []
   },
   "outputs": [
    {
     "data": {
      "text/html": [
       "<div>\n",
       "<style scoped>\n",
       "    .dataframe tbody tr th:only-of-type {\n",
       "        vertical-align: middle;\n",
       "    }\n",
       "\n",
       "    .dataframe tbody tr th {\n",
       "        vertical-align: top;\n",
       "    }\n",
       "\n",
       "    .dataframe thead th {\n",
       "        text-align: right;\n",
       "    }\n",
       "</style>\n",
       "<table border=\"1\" class=\"dataframe\">\n",
       "  <thead>\n",
       "    <tr style=\"text-align: right;\">\n",
       "      <th></th>\n",
       "      <th>Date</th>\n",
       "      <th>Open</th>\n",
       "      <th>High</th>\n",
       "      <th>Low</th>\n",
       "      <th>Close</th>\n",
       "      <th>Volume</th>\n",
       "      <th>Dividends</th>\n",
       "      <th>Stock Splits</th>\n",
       "      <th>Company</th>\n",
       "    </tr>\n",
       "  </thead>\n",
       "  <tbody>\n",
       "    <tr>\n",
       "      <th>0</th>\n",
       "      <td>2018-11-29 05:00:00+00:00</td>\n",
       "      <td>-1.598199</td>\n",
       "      <td>-1.611253</td>\n",
       "      <td>-1.611061</td>\n",
       "      <td>-1.615618</td>\n",
       "      <td>167080000</td>\n",
       "      <td>0.0</td>\n",
       "      <td>0.0</td>\n",
       "      <td>AAPL</td>\n",
       "    </tr>\n",
       "    <tr>\n",
       "      <th>458</th>\n",
       "      <td>2018-11-30 05:00:00+00:00</td>\n",
       "      <td>-1.610310</td>\n",
       "      <td>-1.623753</td>\n",
       "      <td>-1.614516</td>\n",
       "      <td>-1.620572</td>\n",
       "      <td>158126000</td>\n",
       "      <td>0.0</td>\n",
       "      <td>0.0</td>\n",
       "      <td>AAPL</td>\n",
       "    </tr>\n",
       "    <tr>\n",
       "      <th>916</th>\n",
       "      <td>2018-12-03 05:00:00+00:00</td>\n",
       "      <td>-1.589000</td>\n",
       "      <td>-1.600423</td>\n",
       "      <td>-1.592958</td>\n",
       "      <td>-1.588704</td>\n",
       "      <td>163210000</td>\n",
       "      <td>0.0</td>\n",
       "      <td>0.0</td>\n",
       "      <td>AAPL</td>\n",
       "    </tr>\n",
       "  </tbody>\n",
       "</table>\n",
       "</div>"
      ],
      "text/plain": [
       "                         Date      Open      High       Low     Close  \\\n",
       "0   2018-11-29 05:00:00+00:00 -1.598199 -1.611253 -1.611061 -1.615618   \n",
       "458 2018-11-30 05:00:00+00:00 -1.610310 -1.623753 -1.614516 -1.620572   \n",
       "916 2018-12-03 05:00:00+00:00 -1.589000 -1.600423 -1.592958 -1.588704   \n",
       "\n",
       "        Volume  Dividends  Stock Splits Company  \n",
       "0    167080000        0.0           0.0    AAPL  \n",
       "458  158126000        0.0           0.0    AAPL  \n",
       "916  163210000        0.0           0.0    AAPL  "
      ]
     },
     "execution_count": 5,
     "metadata": {},
     "output_type": "execute_result"
    }
   ],
   "source": [
    "# 스케일링\n",
    "from sklearn.preprocessing import StandardScaler\n",
    "scaler = StandardScaler()\n",
    "dfStock[['Open', 'High', 'Low', 'Close']] = scaler.fit_transform(dfStock[['Open', 'High', 'Low', 'Close']])\n",
    "dfStock.head(3)"
   ]
  },
  {
   "cell_type": "code",
   "execution_count": 6,
   "id": "a089c6a0",
   "metadata": {
    "execution": {
     "iopub.execute_input": "2025-02-04T08:43:39.565288Z",
     "iopub.status.busy": "2025-02-04T08:43:39.564945Z",
     "iopub.status.idle": "2025-02-04T08:43:45.077318Z",
     "shell.execute_reply": "2025-02-04T08:43:45.076404Z"
    },
    "papermill": {
     "duration": 5.517919,
     "end_time": "2025-02-04T08:43:45.078637",
     "exception": false,
     "start_time": "2025-02-04T08:43:39.560718",
     "status": "completed"
    },
    "tags": []
   },
   "outputs": [
    {
     "name": "stderr",
     "output_type": "stream",
     "text": [
      "Generating Sequences: 100%|██████████| 1253/1253 [00:00<00:00, 1025456.18it/s]\n"
     ]
    },
    {
     "data": {
      "text/plain": [
       "((1253, 5), (1253,))"
      ]
     },
     "execution_count": 6,
     "metadata": {},
     "output_type": "execute_result"
    }
   ],
   "source": [
    "# 시계열 데이터 생성\n",
    "import numpy as np\n",
    "import torch\n",
    "\n",
    "sequence_length = 5 # 5일 단\n",
    "\n",
    "from tqdm import tqdm\n",
    "\n",
    "def create_sequences(data, seq_length):\n",
    "    xs = []\n",
    "    ys = []\n",
    "    # for i in range(len(data) - seq_length):\n",
    "    for i in tqdm(range(len(data) - seq_length), desc='Generating Sequences'):\n",
    "        x = data[i:i+seq_length]\n",
    "        y = data[i+seq_length]\n",
    "        xs.append(x)\n",
    "        ys.append(y)\n",
    "    return np.array(xs), np.array(ys) # features, label\n",
    "\n",
    "features, label = create_sequences(dfStock['Close'].values, sequence_length)\n",
    "features.shape, label.shape\n",
    "\n",
    "\n",
    "# def create_sequences(data, seq_length):\n",
    "#     xs = []\n",
    "#     ys = []\n",
    "#     # data를 numpy 배열로 변환\n",
    "#     data_array = data.values\n",
    "    \n",
    "#     for i in tqdm(range(len(data_array) - seq_length), desc='Generating Sequences'):\n",
    "#         x = data_array[i:i+seq_length]\n",
    "#         y = data_array[i+seq_length]\n",
    "#         xs.append(x)\n",
    "#         ys.append(y)\n",
    "    \n",
    "#     return np.array(xs), np.array(ys)\n"
   ]
  },
  {
   "cell_type": "code",
   "execution_count": 7,
   "id": "6cc3ebbe",
   "metadata": {
    "execution": {
     "iopub.execute_input": "2025-02-04T08:43:45.087282Z",
     "iopub.status.busy": "2025-02-04T08:43:45.086945Z",
     "iopub.status.idle": "2025-02-04T08:43:45.154593Z",
     "shell.execute_reply": "2025-02-04T08:43:45.153949Z"
    },
    "papermill": {
     "duration": 0.073237,
     "end_time": "2025-02-04T08:43:45.155797",
     "exception": false,
     "start_time": "2025-02-04T08:43:45.082560",
     "status": "completed"
    },
    "tags": []
   },
   "outputs": [
    {
     "data": {
      "text/plain": [
       "(torch.Size([1253, 5, 1]), torch.Size([1253, 1]))"
      ]
     },
     "execution_count": 7,
     "metadata": {},
     "output_type": "execute_result"
    }
   ],
   "source": [
    "# 텐서로 변환\n",
    "features_tensor = torch.tensor(features, dtype=torch.float32).unsqueeze(-1)\n",
    "\n",
    "label_tensor = torch.tensor(label, dtype=torch.float32).unsqueeze(-1)\n",
    "\n",
    "features_tensor.shape, label_tensor.shape"
   ]
  },
  {
   "cell_type": "markdown",
   "id": "f9c6c4ee",
   "metadata": {
    "papermill": {
     "duration": 0.003361,
     "end_time": "2025-02-04T08:43:45.162872",
     "exception": false,
     "start_time": "2025-02-04T08:43:45.159511",
     "status": "completed"
    },
    "tags": []
   },
   "source": [
    "### 모델 관련"
   ]
  },
  {
   "cell_type": "code",
   "execution_count": 8,
   "id": "91bb7da0",
   "metadata": {
    "execution": {
     "iopub.execute_input": "2025-02-04T08:43:45.170612Z",
     "iopub.status.busy": "2025-02-04T08:43:45.170402Z",
     "iopub.status.idle": "2025-02-04T08:43:45.190735Z",
     "shell.execute_reply": "2025-02-04T08:43:45.189891Z"
    },
    "papermill": {
     "duration": 0.025489,
     "end_time": "2025-02-04T08:43:45.191943",
     "exception": false,
     "start_time": "2025-02-04T08:43:45.166454",
     "status": "completed"
    },
    "tags": []
   },
   "outputs": [
    {
     "data": {
      "text/plain": [
       "SimpleRNN(\n",
       "  (rnn): RNN(1, 5, batch_first=True)\n",
       "  (fc): Linear(in_features=5, out_features=1, bias=True)\n",
       ")"
      ]
     },
     "execution_count": 8,
     "metadata": {},
     "output_type": "execute_result"
    }
   ],
   "source": [
    "# RNN 모델 정의\n",
    "import torch.nn as nn\n",
    "class SimpleRNN(nn.Module):\n",
    "    def __init__(self, input_size, hidden_size, output_size):\n",
    "        super(SimpleRNN, self).__init__()\n",
    "        self.rnn = nn.RNN(input_size, hidden_size, batch_first=True)\n",
    "        self.fc = nn.Linear(hidden_size, output_size)\n",
    "    def forward(self, x):\n",
    "        h0 = torch.zeros(1, x.size(0), hidden_size)\n",
    "        out, _ = self.rnn(x, h0)\n",
    "        out = self.fc(out[:, -1, :])\n",
    "        return out\n",
    "\n",
    "input_size = 1 # Row 단위 갯수\n",
    "hidden_size = 5 # 은닉층 갯수\n",
    "output_size = 1 \n",
    "\n",
    "model = SimpleRNN(input_size, hidden_size, output_size)\n",
    "model"
   ]
  },
  {
   "cell_type": "code",
   "execution_count": 9,
   "id": "8c36be79",
   "metadata": {
    "execution": {
     "iopub.execute_input": "2025-02-04T08:43:45.199757Z",
     "iopub.status.busy": "2025-02-04T08:43:45.199535Z",
     "iopub.status.idle": "2025-02-04T08:43:50.057966Z",
     "shell.execute_reply": "2025-02-04T08:43:50.056847Z"
    },
    "papermill": {
     "duration": 4.863745,
     "end_time": "2025-02-04T08:43:50.059266",
     "exception": false,
     "start_time": "2025-02-04T08:43:45.195521",
     "status": "completed"
    },
    "tags": []
   },
   "outputs": [
    {
     "name": "stderr",
     "output_type": "stream",
     "text": [
      "%%%%%%%%%%%%%%%%%%%%%%%%%%%%%%%%%%%%%%%%%%%%%%%%%%%%%%%%%%%%%%%%%%%%%%%%%%%%%%%%:  87%|████████▋ | 87/100 [00:00<00:00, 231.86it/s]"
     ]
    },
    {
     "name": "stdout",
     "output_type": "stream",
     "text": [
      "Epoch [10 / 100], Loss : 0.70109\n",
      "Epoch [20 / 100], Loss : 0.32301\n",
      "Epoch [30 / 100], Loss : 0.09750\n",
      "Epoch [40 / 100], Loss : 0.06389\n",
      "Epoch [50 / 100], Loss : 0.04100\n",
      "Epoch [60 / 100], Loss : 0.02539\n",
      "Epoch [70 / 100], Loss : 0.01419\n",
      "Epoch [80 / 100], Loss : 0.01006\n",
      "Epoch [90 / 100], Loss : 0.00792\n"
     ]
    },
    {
     "name": "stderr",
     "output_type": "stream",
     "text": [
      "%%%%%%%%%%%%%%%%%%%%%%%%%%%%%%%%%%%%%%%%%%%%%%%%%%%%%%%%%%%%%%%%%%%%%%%%%%%%%%%%: 100%|██████████| 100/100 [00:00<00:00, 187.96it/s]"
     ]
    },
    {
     "name": "stdout",
     "output_type": "stream",
     "text": [
      "Epoch [100 / 100], Loss : 0.00646\n"
     ]
    },
    {
     "name": "stderr",
     "output_type": "stream",
     "text": [
      "\n"
     ]
    }
   ],
   "source": [
    "# 모델 학습\n",
    "import torch.optim as optim\n",
    "\n",
    "criterion = nn.MSELoss()\n",
    "optimizer = optim.AdamW(model.parameters(), lr=0.01)\n",
    "\n",
    "epochs = 100\n",
    "\n",
    "for epoch in tqdm(range(epochs), desc='%%%%%%%%%%%%%%%%%%%%%%%%%%%%%%%%%%%%%%%%%%%%%%%%%%%%%%%%%%%%%%%%%%%%%%%%%%%%%%%%'):\n",
    "    model.train()\n",
    "    outputs = model(features_tensor)\n",
    "    optimizer.zero_grad()\n",
    "    loss = criterion(outputs, label_tensor) # Error Rate\n",
    "    loss.backward()\n",
    "    optimizer.step()\n",
    "    if (epoch+1) % 10 == 0 : # 10회에 1번 출력\n",
    "        print(f'Epoch [{epoch+1} / {epochs}], Loss : {loss.item():.5f}')"
   ]
  },
  {
   "cell_type": "code",
   "execution_count": 10,
   "id": "23e111e9",
   "metadata": {
    "execution": {
     "iopub.execute_input": "2025-02-04T08:43:50.069154Z",
     "iopub.status.busy": "2025-02-04T08:43:50.068785Z",
     "iopub.status.idle": "2025-02-04T08:43:50.103131Z",
     "shell.execute_reply": "2025-02-04T08:43:50.102491Z"
    },
    "papermill": {
     "duration": 0.040309,
     "end_time": "2025-02-04T08:43:50.104323",
     "exception": false,
     "start_time": "2025-02-04T08:43:50.064014",
     "status": "completed"
    },
    "tags": []
   },
   "outputs": [
    {
     "data": {
      "text/plain": [
       "OrderedDict([('rnn.weight_ih_l0',\n",
       "              tensor([[-0.4537],\n",
       "                      [-0.6099],\n",
       "                      [-0.1172],\n",
       "                      [-0.0425],\n",
       "                      [ 0.3088]])),\n",
       "             ('rnn.weight_hh_l0',\n",
       "              tensor([[ 0.3364,  0.7221, -0.3663,  0.1243, -0.2785],\n",
       "                      [ 0.3723,  0.2152, -0.3286, -0.7609, -0.7060],\n",
       "                      [ 0.1298,  0.6137, -0.4668,  0.6946,  0.0773],\n",
       "                      [ 0.5621,  0.4524, -0.1254,  0.1799, -0.6972],\n",
       "                      [ 0.2699,  0.6812, -0.3302, -0.3782, -0.2924]])),\n",
       "             ('rnn.bias_ih_l0',\n",
       "              tensor([-0.2713, -0.0234, -0.0515,  0.0595,  0.5044])),\n",
       "             ('rnn.bias_hh_l0',\n",
       "              tensor([ 0.0389,  0.2413,  0.2014,  0.2756, -0.0910])),\n",
       "             ('fc.weight',\n",
       "              tensor([[-0.6800, -0.3378, -0.5195, -0.3778, -0.0282]])),\n",
       "             ('fc.bias', tensor([-0.0651]))])"
      ]
     },
     "execution_count": 10,
     "metadata": {},
     "output_type": "execute_result"
    }
   ],
   "source": [
    "model.state_dict()"
   ]
  },
  {
   "cell_type": "markdown",
   "id": "499443a5",
   "metadata": {
    "papermill": {
     "duration": 0.004065,
     "end_time": "2025-02-04T08:43:50.112540",
     "exception": false,
     "start_time": "2025-02-04T08:43:50.108475",
     "status": "completed"
    },
    "tags": []
   },
   "source": [
    "### 평가 관련"
   ]
  },
  {
   "cell_type": "code",
   "execution_count": 11,
   "id": "bce037f6",
   "metadata": {
    "execution": {
     "iopub.execute_input": "2025-02-04T08:43:50.121584Z",
     "iopub.status.busy": "2025-02-04T08:43:50.121112Z",
     "iopub.status.idle": "2025-02-04T08:43:50.125536Z",
     "shell.execute_reply": "2025-02-04T08:43:50.124905Z"
    },
    "papermill": {
     "duration": 0.010148,
     "end_time": "2025-02-04T08:43:50.126762",
     "exception": false,
     "start_time": "2025-02-04T08:43:50.116614",
     "status": "completed"
    },
    "tags": []
   },
   "outputs": [
    {
     "data": {
      "text/plain": [
       "SimpleRNN(\n",
       "  (rnn): RNN(1, 5, batch_first=True)\n",
       "  (fc): Linear(in_features=5, out_features=1, bias=True)\n",
       ")"
      ]
     },
     "execution_count": 11,
     "metadata": {},
     "output_type": "execute_result"
    }
   ],
   "source": [
    "model.eval()"
   ]
  },
  {
   "cell_type": "code",
   "execution_count": 12,
   "id": "14cbf2a5",
   "metadata": {
    "execution": {
     "iopub.execute_input": "2025-02-04T08:43:50.136109Z",
     "iopub.status.busy": "2025-02-04T08:43:50.135901Z",
     "iopub.status.idle": "2025-02-04T08:43:50.141928Z",
     "shell.execute_reply": "2025-02-04T08:43:50.141249Z"
    },
    "papermill": {
     "duration": 0.012181,
     "end_time": "2025-02-04T08:43:50.143185",
     "exception": false,
     "start_time": "2025-02-04T08:43:50.131004",
     "status": "completed"
    },
    "tags": []
   },
   "outputs": [
    {
     "data": {
      "text/plain": [
       "(tensor([[-1.5527],\n",
       "         [-1.5660],\n",
       "         [-1.5692],\n",
       "         [-1.5696],\n",
       "         [-1.5686]]),\n",
       " tensor([[-1.6721],\n",
       "         [-1.6664],\n",
       "         [-1.6714],\n",
       "         [-1.6690],\n",
       "         [-1.6595]]))"
      ]
     },
     "execution_count": 12,
     "metadata": {},
     "output_type": "execute_result"
    }
   ],
   "source": [
    "with torch.no_grad():\n",
    "    predicted = model(features_tensor[:5])\n",
    "predicted, label_tensor[:5]"
   ]
  },
  {
   "cell_type": "code",
   "execution_count": null,
   "id": "2a3120a8",
   "metadata": {
    "papermill": {
     "duration": 0.004079,
     "end_time": "2025-02-04T08:43:50.151733",
     "exception": false,
     "start_time": "2025-02-04T08:43:50.147654",
     "status": "completed"
    },
    "tags": []
   },
   "outputs": [],
   "source": []
  }
 ],
 "metadata": {
  "kaggle": {
   "accelerator": "nvidiaTeslaT4",
   "dataSources": [
    {
     "datasetId": 4081618,
     "sourceId": 7084494,
     "sourceType": "datasetVersion"
    }
   ],
   "dockerImageVersionId": 30840,
   "isGpuEnabled": true,
   "isInternetEnabled": true,
   "language": "python",
   "sourceType": "notebook"
  },
  "kernelspec": {
   "display_name": "Python 3",
   "language": "python",
   "name": "python3"
  },
  "language_info": {
   "codemirror_mode": {
    "name": "ipython",
    "version": 3
   },
   "file_extension": ".py",
   "mimetype": "text/x-python",
   "name": "python",
   "nbconvert_exporter": "python",
   "pygments_lexer": "ipython3",
   "version": "3.10.12"
  },
  "papermill": {
   "default_parameters": {},
   "duration": 21.24061,
   "end_time": "2025-02-04T08:43:51.975981",
   "environment_variables": {},
   "exception": null,
   "input_path": "__notebook__.ipynb",
   "output_path": "__notebook__.ipynb",
   "parameters": {},
   "start_time": "2025-02-04T08:43:30.735371",
   "version": "2.6.0"
  }
 },
 "nbformat": 4,
 "nbformat_minor": 5
}
