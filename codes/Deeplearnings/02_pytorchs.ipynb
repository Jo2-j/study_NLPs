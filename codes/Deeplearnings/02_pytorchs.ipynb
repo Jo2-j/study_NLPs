{
  "nbformat": 4,
  "nbformat_minor": 0,
  "metadata": {
    "colab": {
      "provenance": [],
      "gpuType": "T4",
      "authorship_tag": "ABX9TyNts5/2GZmBivtDA0v/3vDH",
      "include_colab_link": true
    },
    "kernelspec": {
      "name": "python3",
      "display_name": "Python 3"
    },
    "language_info": {
      "name": "python"
    },
    "accelerator": "GPU"
  },
  "cells": [
    {
      "cell_type": "markdown",
      "metadata": {
        "id": "view-in-github",
        "colab_type": "text"
      },
      "source": [
        "<a href=\"https://colab.research.google.com/github/Jo2-j/study_NLPs/blob/main/codes/02_pytorchs.ipynb\" target=\"_parent\"><img src=\"https://colab.research.google.com/assets/colab-badge.svg\" alt=\"Open In Colab\"/></a>"
      ]
    },
    {
      "cell_type": "markdown",
      "source": [
        "### pytorch 기본"
      ],
      "metadata": {
        "id": "Y8yVECr8_wu3"
      }
    },
    {
      "cell_type": "code",
      "execution_count": 2,
      "metadata": {
        "id": "4DGegeJD_pMT"
      },
      "outputs": [],
      "source": [
        "import torch"
      ]
    },
    {
      "cell_type": "code",
      "source": [
        "torch.device('cuda:1')"
      ],
      "metadata": {
        "colab": {
          "base_uri": "https://localhost:8080/"
        },
        "id": "A68qZDZq_08A",
        "outputId": "93e55ccc-156b-440e-d5bb-1abd15689e61"
      },
      "execution_count": 4,
      "outputs": [
        {
          "output_type": "execute_result",
          "data": {
            "text/plain": [
              "device(type='cuda', index=1)"
            ]
          },
          "metadata": {},
          "execution_count": 4
        }
      ]
    },
    {
      "cell_type": "markdown",
      "source": [
        "### torch 주요 datatype"
      ],
      "metadata": {
        "id": "hSQlpZGWBK_H"
      }
    },
    {
      "cell_type": "code",
      "source": [
        "x = torch.randn((10,5))"
      ],
      "metadata": {
        "id": "3ukVuc07AieI"
      },
      "execution_count": 5,
      "outputs": []
    },
    {
      "cell_type": "code",
      "source": [
        "x"
      ],
      "metadata": {
        "colab": {
          "base_uri": "https://localhost:8080/"
        },
        "id": "NCskSONnBYbK",
        "outputId": "e2fbf0d8-1a7c-42fe-ed00-91b1a5a48a1a"
      },
      "execution_count": 6,
      "outputs": [
        {
          "output_type": "execute_result",
          "data": {
            "text/plain": [
              "tensor([[-0.7436, -0.7708,  0.3488, -0.3933, -2.3455],\n",
              "        [ 0.4477, -0.4583,  0.1491, -1.3395,  0.6125],\n",
              "        [-0.5345, -0.6162, -2.0049,  0.4072, -1.3172],\n",
              "        [ 0.4199,  0.5541,  2.1751,  0.4236, -0.8879],\n",
              "        [ 1.2483,  0.7105, -0.3247,  0.0936, -0.4580],\n",
              "        [ 1.0913,  0.5800,  0.8560, -2.7269, -0.7359],\n",
              "        [ 1.1057,  2.2959, -1.6229,  0.0849, -1.5312],\n",
              "        [ 0.4856,  0.5072, -1.3076,  0.7497, -0.8817],\n",
              "        [ 0.7146, -0.4251, -0.1892,  0.0230,  0.2855],\n",
              "        [ 1.0723, -1.0441,  0.0071, -1.1270,  0.5585]])"
            ]
          },
          "metadata": {},
          "execution_count": 6
        }
      ]
    },
    {
      "cell_type": "code",
      "source": [
        "type(x), x.dtype, x.shape, x.device, x.size()"
      ],
      "metadata": {
        "colab": {
          "base_uri": "https://localhost:8080/"
        },
        "id": "74uiDfoSBZVu",
        "outputId": "3a7cc183-8d66-495e-df0e-c92a5d5d352e"
      },
      "execution_count": 7,
      "outputs": [
        {
          "output_type": "execute_result",
          "data": {
            "text/plain": [
              "(torch.Tensor,\n",
              " torch.float32,\n",
              " torch.Size([10, 5]),\n",
              " device(type='cpu'),\n",
              " torch.Size([10, 5]))"
            ]
          },
          "metadata": {},
          "execution_count": 7
        }
      ]
    },
    {
      "cell_type": "code",
      "source": [
        "x[0]"
      ],
      "metadata": {
        "colab": {
          "base_uri": "https://localhost:8080/"
        },
        "id": "hcM-Gj4PB153",
        "outputId": "7150d8d3-1e4d-4f91-abd2-20b056bbfd3d"
      },
      "execution_count": 8,
      "outputs": [
        {
          "output_type": "execute_result",
          "data": {
            "text/plain": [
              "tensor([-0.7436, -0.7708,  0.3488, -0.3933, -2.3455])"
            ]
          },
          "metadata": {},
          "execution_count": 8
        }
      ]
    },
    {
      "cell_type": "code",
      "source": [
        "# GPU인 cuda 사용\n",
        "\n",
        "x_cuda = x.to('cuda:0')"
      ],
      "metadata": {
        "id": "DYM5Pm8aCOZf"
      },
      "execution_count": 9,
      "outputs": []
    },
    {
      "cell_type": "code",
      "source": [
        "x_cuda"
      ],
      "metadata": {
        "colab": {
          "base_uri": "https://localhost:8080/"
        },
        "id": "v8_44BzDCzay",
        "outputId": "d3ff7853-4df8-40a9-fe33-402a904a352a"
      },
      "execution_count": 10,
      "outputs": [
        {
          "output_type": "execute_result",
          "data": {
            "text/plain": [
              "tensor([[-0.7436, -0.7708,  0.3488, -0.3933, -2.3455],\n",
              "        [ 0.4477, -0.4583,  0.1491, -1.3395,  0.6125],\n",
              "        [-0.5345, -0.6162, -2.0049,  0.4072, -1.3172],\n",
              "        [ 0.4199,  0.5541,  2.1751,  0.4236, -0.8879],\n",
              "        [ 1.2483,  0.7105, -0.3247,  0.0936, -0.4580],\n",
              "        [ 1.0913,  0.5800,  0.8560, -2.7269, -0.7359],\n",
              "        [ 1.1057,  2.2959, -1.6229,  0.0849, -1.5312],\n",
              "        [ 0.4856,  0.5072, -1.3076,  0.7497, -0.8817],\n",
              "        [ 0.7146, -0.4251, -0.1892,  0.0230,  0.2855],\n",
              "        [ 1.0723, -1.0441,  0.0071, -1.1270,  0.5585]], device='cuda:0')"
            ]
          },
          "metadata": {},
          "execution_count": 10
        }
      ]
    },
    {
      "cell_type": "code",
      "source": [
        "type(x_cuda), x_cuda.dtype, x_cuda.shape, x_cuda.device"
      ],
      "metadata": {
        "colab": {
          "base_uri": "https://localhost:8080/"
        },
        "id": "6cNWJwsFC1bh",
        "outputId": "036b686b-35a4-46c3-93e0-7173be066841"
      },
      "execution_count": 11,
      "outputs": [
        {
          "output_type": "execute_result",
          "data": {
            "text/plain": [
              "(torch.Tensor,\n",
              " torch.float32,\n",
              " torch.Size([10, 5]),\n",
              " device(type='cuda', index=0))"
            ]
          },
          "metadata": {},
          "execution_count": 11
        }
      ]
    },
    {
      "cell_type": "code",
      "source": [
        "# x + x_cuda # 연산 영역이 달라 에러 발생\n",
        "x.cuda() + x_cuda"
      ],
      "metadata": {
        "colab": {
          "base_uri": "https://localhost:8080/"
        },
        "id": "fHNCiRvoDAE-",
        "outputId": "09320c96-7280-48d0-af72-e04f351622e1"
      },
      "execution_count": 14,
      "outputs": [
        {
          "output_type": "execute_result",
          "data": {
            "text/plain": [
              "tensor([[-1.4873, -1.5415,  0.6976, -0.7866, -4.6910],\n",
              "        [ 0.8953, -0.9165,  0.2982, -2.6790,  1.2250],\n",
              "        [-1.0691, -1.2324, -4.0098,  0.8144, -2.6343],\n",
              "        [ 0.8399,  1.1081,  4.3502,  0.8472, -1.7759],\n",
              "        [ 2.4965,  1.4210, -0.6495,  0.1871, -0.9161],\n",
              "        [ 2.1826,  1.1601,  1.7120, -5.4538, -1.4717],\n",
              "        [ 2.2114,  4.5919, -3.2458,  0.1698, -3.0624],\n",
              "        [ 0.9713,  1.0144, -2.6152,  1.4995, -1.7634],\n",
              "        [ 1.4292, -0.8501, -0.3784,  0.0459,  0.5711],\n",
              "        [ 2.1446, -2.0883,  0.0141, -2.2539,  1.1170]], device='cuda:0')"
            ]
          },
          "metadata": {},
          "execution_count": 14
        }
      ]
    },
    {
      "cell_type": "code",
      "source": [
        "x_cuda.T.shape  # numpy와 동일"
      ],
      "metadata": {
        "colab": {
          "base_uri": "https://localhost:8080/"
        },
        "id": "4j59VI9IDOwe",
        "outputId": "4e767cb4-b7b6-4d66-fac8-d05f01a3b3bd"
      },
      "execution_count": 16,
      "outputs": [
        {
          "output_type": "execute_result",
          "data": {
            "text/plain": [
              "torch.Size([5, 10])"
            ]
          },
          "metadata": {},
          "execution_count": 16
        }
      ]
    },
    {
      "cell_type": "code",
      "source": [
        "x_cuda @ x_cuda.T # 행렬곱 (10*10)"
      ],
      "metadata": {
        "colab": {
          "base_uri": "https://localhost:8080/"
        },
        "id": "6lp9mdmVD1K3",
        "outputId": "0baa03c8-d55b-44c3-db68-315c8a032c00"
      },
      "execution_count": 17,
      "outputs": [
        {
          "output_type": "execute_result",
          "data": {
            "text/plain": [
              "tensor([[ 6.9248, -0.8374,  3.1025,  1.9354, -0.5516,  1.8384,  0.4001,  0.5650,\n",
              "         -0.9485, -0.8569],\n",
              "        [-0.8374,  2.6021, -1.6081, -0.8529, -0.2211,  3.5524, -1.8508, -1.7544,\n",
              "          0.6306,  2.8112],\n",
              "        [ 3.1025, -1.6081,  6.5858, -3.5847,  0.1874, -2.7980,  3.2994,  3.5162,\n",
              "         -0.1075, -1.1385],\n",
              "        [ 1.9354, -0.8529, -3.5847,  6.1823,  0.6578,  2.1398, -0.3980, -1.2588,\n",
              "         -0.5907, -1.0861],\n",
              "        [-0.5516, -0.2211,  0.1874,  0.6578,  2.3870,  1.5783,  4.2478,  1.8652,\n",
              "          0.5228,  0.2331],\n",
              "        [ 1.8384,  3.5524, -2.7980,  2.1398,  1.5783, 10.2375,  2.0444, -1.6908,\n",
              "          0.0986,  3.2328],\n",
              "        [ 0.4001, -1.8508,  3.2994, -0.3980,  4.2478,  2.0444, 11.4794,  5.2373,\n",
              "         -0.3140, -2.1739],\n",
              "        [ 0.5650, -1.7544,  3.5162, -1.2588,  1.8652, -1.6908,  5.2373,  3.5425,\n",
              "          0.1443, -1.3554],\n",
              "        [-0.9485,  0.6306, -0.1075, -0.5907,  0.5228,  0.0986, -0.3140,  0.1443,\n",
              "          0.8092,  1.3423],\n",
              "        [-0.8569,  2.8112, -1.1385, -1.0861,  0.2331,  3.2328, -2.1739, -1.3554,\n",
              "          1.3423,  3.8221]], device='cuda:0')"
            ]
          },
          "metadata": {},
          "execution_count": 17
        }
      ]
    },
    {
      "cell_type": "code",
      "source": [],
      "metadata": {
        "id": "XqR6IYcqFR7v"
      },
      "execution_count": null,
      "outputs": []
    }
  ]
}