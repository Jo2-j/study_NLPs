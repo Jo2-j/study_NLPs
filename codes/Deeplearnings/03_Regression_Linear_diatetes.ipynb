{
  "nbformat": 4,
  "nbformat_minor": 0,
  "metadata": {
    "colab": {
      "provenance": [],
      "authorship_tag": "ABX9TyP9pxrYN7TGyxaEGGvKszBu",
      "include_colab_link": true
    },
    "kernelspec": {
      "name": "python3",
      "display_name": "Python 3"
    },
    "language_info": {
      "name": "python"
    }
  },
  "cells": [
    {
      "cell_type": "markdown",
      "metadata": {
        "id": "view-in-github",
        "colab_type": "text"
      },
      "source": [
        "<a href=\"https://colab.research.google.com/github/Jo2-j/study_NLPs/blob/main/codes/Deeplearnings/03_Regression_Linear_diatetes.ipynb\" target=\"_parent\"><img src=\"https://colab.research.google.com/assets/colab-badge.svg\" alt=\"Open In Colab\"/></a>"
      ]
    },
    {
      "cell_type": "markdown",
      "source": [
        "## 데이터 수집"
      ],
      "metadata": {
        "id": "d_6SIHehJMyh"
      }
    },
    {
      "cell_type": "code",
      "source": [
        "from sklearn.datasets import load_dia\n",
        "import pandas as pd"
      ],
      "metadata": {
        "id": "CbZYtaWoJ0l3"
      },
      "execution_count": 1,
      "outputs": []
    },
    {
      "cell_type": "code",
      "source": [
        "data_diabetes = load_diabetes()\n",
        "features, label = data_diabetes.data, data_diabetes.target\n",
        "features.shape, label.shape"
      ],
      "metadata": {
        "colab": {
          "base_uri": "https://localhost:8080/"
        },
        "id": "mvSpfxsdKPcn",
        "outputId": "e7b29963-69bb-4935-83da-842dd42f0f4a"
      },
      "execution_count": 2,
      "outputs": [
        {
          "output_type": "execute_result",
          "data": {
            "text/plain": [
              "((442, 10), (442,))"
            ]
          },
          "metadata": {},
          "execution_count": 2
        }
      ]
    },
    {
      "cell_type": "markdown",
      "source": [
        "## 데이터 전처리\n",
        "- 데이터 분석"
      ],
      "metadata": {
        "id": "PqOhfj1TJPPP"
      }
    },
    {
      "cell_type": "markdown",
      "source": [
        "## 데이터 분할\n",
        "- Train, Test, Validation"
      ],
      "metadata": {
        "id": "fefhss0_JZrO"
      }
    },
    {
      "cell_type": "code",
      "source": [
        "from sklearn.model_selection import train_test_split\n",
        "train_features, test_features, train_label, test_label = train_test_split(features, label, test_size=0.2, random_state=42)\n"
      ],
      "metadata": {
        "id": "ASlCmc46KwK4"
      },
      "execution_count": 3,
      "outputs": []
    },
    {
      "cell_type": "code",
      "source": [
        "import torch"
      ],
      "metadata": {
        "id": "lDddDpsQLZ26"
      },
      "execution_count": 4,
      "outputs": []
    },
    {
      "cell_type": "code",
      "source": [
        "train_features_tensor = torch.tensor(train_features)"
      ],
      "metadata": {
        "id": "GrjN6up5Led4"
      },
      "execution_count": 5,
      "outputs": []
    },
    {
      "cell_type": "code",
      "source": [
        "# In the cell where you create train_features_tensor:\n",
        "train_features_tensor = torch.tensor(train_features, dtype=torch.float32)\n",
        "train_label_tensor = torch.tensor(train_label, dtype=torch.float32).view(-1, 1)\n",
        "type(train_features_tensor), type(train_label_tensor)"
      ],
      "metadata": {
        "colab": {
          "base_uri": "https://localhost:8080/"
        },
        "id": "HDj2fYbfLu3A",
        "outputId": "3ea8db56-4635-4053-f57b-bdfe10d8eae8"
      },
      "execution_count": 17,
      "outputs": [
        {
          "output_type": "execute_result",
          "data": {
            "text/plain": [
              "(torch.Tensor, torch.Tensor)"
            ]
          },
          "metadata": {},
          "execution_count": 17
        }
      ]
    },
    {
      "cell_type": "code",
      "source": [
        "train_features_tensor = torch.tensor(train_features)\n",
        "train_label_tensor = torch.tensor(train_label).view(-1, 1)    # 행렬 모양으로 변경\n",
        "# test_features_tensor = torch.tensor(test_features)\n",
        "# test_label_tensor = torch.tensor(test_label)\n",
        "type(train_features_tensor), type(train_label_tensor), train_label_tensor.shape"
      ],
      "metadata": {
        "colab": {
          "base_uri": "https://localhost:8080/"
        },
        "id": "LG4eqLw3O6EJ",
        "outputId": "05694bb7-8907-43f5-f0da-7a9d50c171e8"
      },
      "execution_count": 8,
      "outputs": [
        {
          "output_type": "execute_result",
          "data": {
            "text/plain": [
              "(torch.Tensor, torch.Tensor, torch.Size([353, 1]))"
            ]
          },
          "metadata": {},
          "execution_count": 8
        }
      ]
    },
    {
      "cell_type": "markdown",
      "source": [
        "## 모델 학습"
      ],
      "metadata": {
        "id": "CYCeuy_fJmiP"
      }
    },
    {
      "cell_type": "code",
      "source": [
        "## simple model linear regression\n",
        "class LinearRegression(torch.nn.Module):\n",
        "    def __init__(self, input_dim, output_dim): # input_dim : features 열 갯수, output_dim:label 카테고리 갯수\n",
        "        super(LinearRegression, self).__init__()\n",
        "        self.linear = torch.nn.Linear(input_dim, output_dim)\n",
        "\n",
        "    def forward(self, x):\n",
        "        out = self.linear(x)\n",
        "        return out\n",
        ""
      ],
      "metadata": {
        "id": "iZr78OtPL-fP"
      },
      "execution_count": 7,
      "outputs": []
    },
    {
      "cell_type": "code",
      "source": [
        "model = LinearRegression(10, train_label_tensor.shape[1])"
      ],
      "metadata": {
        "id": "Q5uPZbR2OLzy"
      },
      "execution_count": 9,
      "outputs": []
    },
    {
      "cell_type": "code",
      "source": [
        "model"
      ],
      "metadata": {
        "colab": {
          "base_uri": "https://localhost:8080/"
        },
        "id": "rLvt8XPiPgv4",
        "outputId": "e1408aff-15c0-411e-edf5-c285898b0cae"
      },
      "execution_count": 13,
      "outputs": [
        {
          "output_type": "execute_result",
          "data": {
            "text/plain": [
              "LinearRegression(\n",
              "  (linear): Linear(in_features=10, out_features=1, bias=True)\n",
              ")"
            ]
          },
          "metadata": {},
          "execution_count": 13
        }
      ]
    },
    {
      "cell_type": "code",
      "source": [
        "criterion = torch.nn.MSELoss() # Loss function\n",
        "optimizer = torch.optim.SGD(model.parameters(), lr=0.01) # Optimizer"
      ],
      "metadata": {
        "id": "pXkhu8tMVbxg"
      },
      "execution_count": 14,
      "outputs": []
    },
    {
      "cell_type": "code",
      "source": [
        "for epoch in range(1000):\n",
        "    # Forward pass\n",
        "    pred_y = model(train_features_tensor)\n",
        "    loss = criterion(pred_y, train_label_tensor)\n",
        "    optimizer.zero_grad()\n",
        "    loss.backward()\n",
        "    optimizer.step()\n",
        "    if epoch % 100 == 0:\n",
        "        print(f'Epoch: {epoch}, Loss: {loss.item()}') # Indented this line by four spaces"
      ],
      "metadata": {
        "colab": {
          "base_uri": "https://localhost:8080/"
        },
        "id": "aCwrvTl8WxXY",
        "outputId": "079f2ba0-4c56-40db-ac99-ef075fb1495c"
      },
      "execution_count": 20,
      "outputs": [
        {
          "output_type": "stream",
          "name": "stdout",
          "text": [
            "Epoch: 0, Loss: 21857.97265625\n",
            "Epoch: 100, Loss: 6263.25\n",
            "Epoch: 200, Loss: 5914.37060546875\n",
            "Epoch: 300, Loss: 5835.9365234375\n",
            "Epoch: 400, Loss: 5764.4990234375\n",
            "Epoch: 500, Loss: 5695.3486328125\n",
            "Epoch: 600, Loss: 5628.3291015625\n",
            "Epoch: 700, Loss: 5563.36669921875\n",
            "Epoch: 800, Loss: 5500.3916015625\n",
            "Epoch: 900, Loss: 5439.337890625\n"
          ]
        }
      ]
    },
    {
      "cell_type": "markdown",
      "source": [
        "## 모델 평가"
      ],
      "metadata": {
        "id": "AbW04Y-RJqoW"
      }
    },
    {
      "cell_type": "code",
      "source": [
        "model.eval()"
      ],
      "metadata": {
        "colab": {
          "base_uri": "https://localhost:8080/"
        },
        "id": "Ha6_XigKYqLo",
        "outputId": "b519e84d-3b21-41a3-e29a-f35224d8c079"
      },
      "execution_count": 21,
      "outputs": [
        {
          "output_type": "execute_result",
          "data": {
            "text/plain": [
              "LinearRegression(\n",
              "  (linear): Linear(in_features=10, out_features=1, bias=True)\n",
              ")"
            ]
          },
          "metadata": {},
          "execution_count": 21
        }
      ]
    },
    {
      "cell_type": "code",
      "source": [
        "with torch.no_grad(): # 학습 목적 아닌 평가 목적 위해 고정\n",
        "    pred_y = model(train_features_tensor)\n",
        "    loss = criterion(pred_y, train_label_tensor) # 예측도 같은 Loss function\n",
        "    print(f'Loss: {loss.item()}')"
      ],
      "metadata": {
        "colab": {
          "base_uri": "https://localhost:8080/"
        },
        "id": "12MHZqRtYtwY",
        "outputId": "1a168a80-b286-4420-f92d-03648d365013"
      },
      "execution_count": 22,
      "outputs": [
        {
          "output_type": "stream",
          "name": "stdout",
          "text": [
            "Loss: 5380.140625\n"
          ]
        }
      ]
    },
    {
      "cell_type": "markdown",
      "source": [
        "## 모델 배포"
      ],
      "metadata": {
        "id": "47wcJBe0Jvpv"
      }
    },
    {
      "cell_type": "code",
      "source": [],
      "metadata": {
        "id": "Q3o5Y2ICJr8X"
      },
      "execution_count": null,
      "outputs": []
    }
  ]
}