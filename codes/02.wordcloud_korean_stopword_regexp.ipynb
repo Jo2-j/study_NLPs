{
 "cells": [
  {
   "cell_type": "markdown",
   "metadata": {},
   "source": [
    "## 빈도수에 의한 자연어 처리"
   ]
  },
  {
   "cell_type": "markdown",
   "metadata": {},
   "source": [
    "### 데이터 전처리"
   ]
  },
  {
   "cell_type": "code",
   "execution_count": 110,
   "metadata": {},
   "outputs": [],
   "source": [
    "it_sentences = [\n",
    "    \"인공지능 기술이 사회의 다양한 분야에 점점 더 널리 적용되고 있다.\",\n",
    "    \"클라우드 컴퓨팅은 데이터 저장과 처리를 더욱 효율적으로 만들어 주며, 기업의 IT 인프라를 혁신하고 있다.\",\n",
    "    \"머신러닝과 딥러닝 알고리즘은 데이터 분석과 예측 모델링에 혁명을 일으키고 있다.\",\n",
    "    \"블록체인 기술은 금융 거래의 투명성과 보안성을 향상시키는데 기여하고 있다.\",\n",
    "    \"사이버 보안은 디지털 시대의 중요한 이슈로 부상하고 있으며, 지속적인 관심과 개선이 요구된다.\",\n",
    "    \"소프트웨어 개발에서의 애자일 방법론은 빠른 시장 변화에 효과적으로 대응할 수 있게 해준다.\",\n",
    "    \"데이터 과학과 분석은 비즈니스 의사 결정 과정에서 중요한 역할을 하며, 기업의 경쟁력을 강화시킨다.\",\n",
    "    \"사물인터넷(IoT) 기술은 일상 생활을 더욱 편리하고 연결된 공간으로 변화시키고 있다.\",\n",
    "    \"가상현실(VR)과 증강현실(AR) 기술은 엔터테인먼트, 교육, 의료 등 다양한 분야에서 새로운 경험을 제공한다.\",\n",
    "    \"파이썬은 데이터 과학, 웹 개발, 자동화 스크립트 작성 등 다양한 프로그래밍 작업에 널리 사용되는 언어이다.\"\n",
    "]"
   ]
  },
  {
   "cell_type": "code",
   "execution_count": 111,
   "metadata": {},
   "outputs": [
    {
     "data": {
      "text/plain": [
       "(str, 508)"
      ]
     },
     "execution_count": 111,
     "metadata": {},
     "output_type": "execute_result"
    }
   ],
   "source": [
    "\n",
    "# 하나의 묶음 문장 작성\n",
    "\n",
    "text = ''.join(it_sentences)\n",
    "type(text), len(text)"
   ]
  },
  {
   "cell_type": "markdown",
   "metadata": {},
   "source": [
    "### 불용어 처리(stop words)"
   ]
  },
  {
   "cell_type": "code",
   "execution_count": 112,
   "metadata": {},
   "outputs": [
    {
     "data": {
      "text/plain": [
       "'인공지능 기술이 사회  분야 점점 더 널리 적용되고 있다.클라우드 컴퓨팅은 데이터 저장과 처리를 더욱 효율적으 만들어 주며, 기업 IT 인프라를 혁신하고 있다.머신러닝과 딥러닝 알고리즘은 데이터 분석과 예측 모델링 혁명을 일으키고 있다.블록체인 기술은 금융 거래 투명성과 보안성을 향상시키는데 기여하고 있다.사이버 보안은 디지털 시대 중요한 이슈 부상하고 있으며, 지속적인 관심과 개선이 요구된다.소프트웨어 개발서 애자일 방법론은 빠른 시장 변화 효과적으 대응할 수 있게 해준다.데이터 과학과 분석은 비즈니스 사 결정 과정서 중요한 역할을 하며, 기업 경쟁력을 강화시킨다.사물인터넷(IoT) 기술은 일상 생활을 더욱 편리하고 연결된 공간으 변화시키고 있다.가상현실(VR)과 증강현실(AR) 기술은 엔터테인먼트, 교육, 료 등  분야서 새운 경험을 제공한다.파이썬은 데이터 과학, 웹 개발, 자동화 스크립트 작성 등  프그래밍 작업 널리 사용되는 언어이다.'"
      ]
     },
     "execution_count": 112,
     "metadata": {},
     "output_type": "execute_result"
    }
   ],
   "source": [
    "import re\n",
    "replace_word = ''\n",
    "pattern = r'(다양한|로|에|의)' # 대상을 조사\n",
    "text_regex = re.sub(pattern=pattern, repl=replace_word, string=text)\n",
    "text_regex\n"
   ]
  },
  {
   "cell_type": "code",
   "execution_count": 113,
   "metadata": {},
   "outputs": [
    {
     "data": {
      "text/plain": [
       "(list, 108, ['인공지능', '기술이', '사회', ''])"
      ]
     },
     "execution_count": 113,
     "metadata": {},
     "output_type": "execute_result"
    }
   ],
   "source": [
    "text_split = text_regex.split(sep=' ')\n",
    "type(text_split), len(text_split), text_split[:4]"
   ]
  },
  {
   "cell_type": "markdown",
   "metadata": {},
   "source": [
    "### 단어(명사, 품사, 대명사 등등) 사전\n"
   ]
  },
  {
   "cell_type": "code",
   "execution_count": 114,
   "metadata": {},
   "outputs": [
    {
     "data": {
      "text/plain": [
       "(collections.Counter,\n",
       " [('', 3),\n",
       "  ('데이터', 3),\n",
       "  ('기술은', 3),\n",
       "  ('널리', 2),\n",
       "  ('더욱', 2),\n",
       "  ('기업', 2),\n",
       "  ('중요한', 2),\n",
       "  ('등', 2),\n",
       "  ('인공지능', 1),\n",
       "  ('기술이', 1)])"
      ]
     },
     "execution_count": 114,
     "metadata": {},
     "output_type": "execute_result"
    }
   ],
   "source": [
    "# 단어마다 빈도수\n",
    "\n",
    "from collections import Counter\n",
    "counter_text_split = Counter(text_split)\n",
    "type(counter_text_split), counter_text_split.most_common()[:10] # get list\n",
    "\n",
    "# 불용어 처리(word cloud에서 불용어 처리 필요, and is of the)"
   ]
  },
  {
   "cell_type": "markdown",
   "metadata": {},
   "source": [
    "### Word Cloud"
   ]
  },
  {
   "cell_type": "code",
   "execution_count": 115,
   "metadata": {},
   "outputs": [],
   "source": [
    "# 한글 처리\n",
    "\n",
    "# !apt-get -y install fonts-nanum\n",
    "\n",
    "# !ls /usr/share/fonts/truetype/nanum/NanumMyeongjo.ttf"
   ]
  },
  {
   "cell_type": "code",
   "execution_count": 116,
   "metadata": {},
   "outputs": [],
   "source": [
    "from wordcloud import WordCloud"
   ]
  },
  {
   "cell_type": "code",
   "execution_count": 117,
   "metadata": {},
   "outputs": [],
   "source": [
    "wordCloud = WordCloud(background_color='grey', font_path='/usr/share/fonts/truetype/nanum/NanumMyeongjo.ttf')\n"
   ]
  },
  {
   "cell_type": "code",
   "execution_count": 118,
   "metadata": {},
   "outputs": [
    {
     "data": {
      "text/plain": [
       "<wordcloud.wordcloud.WordCloud at 0x7f5966351550>"
      ]
     },
     "execution_count": 118,
     "metadata": {},
     "output_type": "execute_result"
    }
   ],
   "source": [
    "# wordCloud.generate_from_text(text_regex)\n",
    "\n",
    "# wordCloud.generate_from_frequencies(counter_text_split) # 내가 원하는 단어들을 넣기 위한 발판\n",
    "\n",
    "tops_counter_dict = dict(counter_text_split.most_common()[:10]) # get list\n",
    "# tops_counter_dict\n",
    "wordCloud.generate_from_frequencies(tops_counter_dict)\n"
   ]
  },
  {
   "cell_type": "code",
   "execution_count": 119,
   "metadata": {},
   "outputs": [
    {
     "data": {
      "text/plain": [
       "{'': 1.0,\n",
       " '데이터': 1.0,\n",
       " '기술은': 1.0,\n",
       " '널리': 0.6666666666666666,\n",
       " '더욱': 0.6666666666666666,\n",
       " '기업': 0.6666666666666666,\n",
       " '중요한': 0.6666666666666666,\n",
       " '등': 0.6666666666666666,\n",
       " '인공지능': 0.3333333333333333,\n",
       " '기술이': 0.3333333333333333}"
      ]
     },
     "execution_count": 119,
     "metadata": {},
     "output_type": "execute_result"
    }
   ],
   "source": [
    "wordCloud.words_"
   ]
  },
  {
   "cell_type": "code",
   "execution_count": 120,
   "metadata": {},
   "outputs": [
    {
     "data": {
      "image/png": "[encoded data removed]",
      "text/plain": [
       "<Figure size 640x480 with 1 Axes>"
      ]
     },
     "metadata": {},
     "output_type": "display_data"
    }
   ],
   "source": [
    "import matplotlib.pyplot as plt\n",
    "\n",
    "plt.imshow(wordCloud)\n",
    "plt.axis('off')\n",
    "\n",
    "plt.show()"
   ]
  },
  {
   "cell_type": "code",
   "execution_count": null,
   "metadata": {},
   "outputs": [],
   "source": []
  }
 ],
 "metadata": {
  "kernelspec": {
   "display_name": "Python 3",
   "language": "python",
   "name": "python3"
  },
  "language_info": {
   "codemirror_mode": {
    "name": "ipython",
    "version": 3
   },
   "file_extension": ".py",
   "mimetype": "text/x-python",
   "name": "python",
   "nbconvert_exporter": "python",
   "pygments_lexer": "ipython3",
   "version": "3.11.11"
  }
 },
 "nbformat": 4,
 "nbformat_minor": 2
}
