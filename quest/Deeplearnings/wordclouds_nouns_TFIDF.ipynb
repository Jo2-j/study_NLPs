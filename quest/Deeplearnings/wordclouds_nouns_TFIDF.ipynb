{
 "cells": [
  {
   "cell_type": "markdown",
   "metadata": {},
   "source": [
    "### 데이터 불러오기 - MongoDB"
   ]
  },
  {
   "cell_type": "code",
   "execution_count": 30,
   "metadata": {},
   "outputs": [],
   "source": [
    "from pymongo import MongoClient\n",
    "# 네트워크 연결 규칙 : protocol://ip:port/path \n",
    "client = MongoClient('mongodb://192.168.0.50:27017/')\n",
    "\n",
    "db = client[\"DB_SGMN\"]\n",
    "collection = db[\"COL_SCRAPPING_TOSS_COMMENT_HISTORY\"]"
   ]
  },
  {
   "cell_type": "code",
   "execution_count": 31,
   "metadata": {},
   "outputs": [],
   "source": [
    "getDatafromDB = collection.find()\n",
    "\n",
    "\n",
    "data = list(getDatafromDB)\n"
   ]
  },
  {
   "cell_type": "code",
   "execution_count": 32,
   "metadata": {},
   "outputs": [],
   "source": [
    "import pandas as pd"
   ]
  },
  {
   "cell_type": "code",
   "execution_count": 33,
   "metadata": {},
   "outputs": [],
   "source": [
    "dfData = pd.DataFrame(data)"
   ]
  },
  {
   "cell_type": "code",
   "execution_count": 34,
   "metadata": {},
   "outputs": [
    {
     "name": "stdout",
     "output_type": "stream",
     "text": [
      "<class 'pandas.core.frame.DataFrame'>\n",
      "RangeIndex: 251836 entries, 0 to 251835\n",
      "Data columns (total 7 columns):\n",
      " #   Column      Non-Null Count   Dtype         \n",
      "---  ------      --------------   -----         \n",
      " 0   _id         251836 non-null  object        \n",
      " 1   COMMENT     251836 non-null  object        \n",
      " 2   CREATED_AT  251836 non-null  datetime64[ns]\n",
      " 3   DATE        251836 non-null  object        \n",
      " 4   DATETIME    251836 non-null  object        \n",
      " 5   SYMBOL      251836 non-null  object        \n",
      " 6   UPDATED_AT  251836 non-null  object        \n",
      "dtypes: datetime64[ns](1), object(6)\n",
      "memory usage: 13.4+ MB\n"
     ]
    }
   ],
   "source": [
    "dfData.info()"
   ]
  },
  {
   "cell_type": "code",
   "execution_count": 35,
   "metadata": {},
   "outputs": [
    {
     "data": {
      "text/html": [
       "<div>\n",
       "<style scoped>\n",
       "    .dataframe tbody tr th:only-of-type {\n",
       "        vertical-align: middle;\n",
       "    }\n",
       "\n",
       "    .dataframe tbody tr th {\n",
       "        vertical-align: top;\n",
       "    }\n",
       "\n",
       "    .dataframe thead th {\n",
       "        text-align: right;\n",
       "    }\n",
       "</style>\n",
       "<table border=\"1\" class=\"dataframe\">\n",
       "  <thead>\n",
       "    <tr style=\"text-align: right;\">\n",
       "      <th></th>\n",
       "      <th>_id</th>\n",
       "      <th>COMMENT</th>\n",
       "      <th>CREATED_AT</th>\n",
       "      <th>DATE</th>\n",
       "      <th>DATETIME</th>\n",
       "      <th>SYMBOL</th>\n",
       "      <th>UPDATED_AT</th>\n",
       "    </tr>\n",
       "  </thead>\n",
       "  <tbody>\n",
       "    <tr>\n",
       "      <th>count</th>\n",
       "      <td>251836</td>\n",
       "      <td>251836</td>\n",
       "      <td>251836</td>\n",
       "      <td>251836</td>\n",
       "      <td>251836</td>\n",
       "      <td>251836</td>\n",
       "      <td>251836</td>\n",
       "    </tr>\n",
       "    <tr>\n",
       "      <th>unique</th>\n",
       "      <td>251836</td>\n",
       "      <td>57091</td>\n",
       "      <td>NaN</td>\n",
       "      <td>25</td>\n",
       "      <td>57466</td>\n",
       "      <td>53</td>\n",
       "      <td>63455</td>\n",
       "    </tr>\n",
       "    <tr>\n",
       "      <th>top</th>\n",
       "      <td>67698900ab893ad5cda049ea</td>\n",
       "      <td>.</td>\n",
       "      <td>NaN</td>\n",
       "      <td>2024-12-20</td>\n",
       "      <td>2024-12-21T00:31:45+09:00</td>\n",
       "      <td>TSLA</td>\n",
       "      <td>2024-12-14 17:19:20</td>\n",
       "    </tr>\n",
       "    <tr>\n",
       "      <th>freq</th>\n",
       "      <td>1</td>\n",
       "      <td>287</td>\n",
       "      <td>NaN</td>\n",
       "      <td>39919</td>\n",
       "      <td>54</td>\n",
       "      <td>177673</td>\n",
       "      <td>11</td>\n",
       "    </tr>\n",
       "    <tr>\n",
       "      <th>mean</th>\n",
       "      <td>NaN</td>\n",
       "      <td>NaN</td>\n",
       "      <td>2024-12-16 19:21:54.171097600</td>\n",
       "      <td>NaN</td>\n",
       "      <td>NaN</td>\n",
       "      <td>NaN</td>\n",
       "      <td>NaN</td>\n",
       "    </tr>\n",
       "    <tr>\n",
       "      <th>min</th>\n",
       "      <td>NaN</td>\n",
       "      <td>NaN</td>\n",
       "      <td>2024-11-21 23:59:13.068000</td>\n",
       "      <td>NaN</td>\n",
       "      <td>NaN</td>\n",
       "      <td>NaN</td>\n",
       "      <td>NaN</td>\n",
       "    </tr>\n",
       "    <tr>\n",
       "      <th>25%</th>\n",
       "      <td>NaN</td>\n",
       "      <td>NaN</td>\n",
       "      <td>2024-12-13 09:41:07.564999936</td>\n",
       "      <td>NaN</td>\n",
       "      <td>NaN</td>\n",
       "      <td>NaN</td>\n",
       "      <td>NaN</td>\n",
       "    </tr>\n",
       "    <tr>\n",
       "      <th>50%</th>\n",
       "      <td>NaN</td>\n",
       "      <td>NaN</td>\n",
       "      <td>2024-12-19 00:40:05.740999936</td>\n",
       "      <td>NaN</td>\n",
       "      <td>NaN</td>\n",
       "      <td>NaN</td>\n",
       "      <td>NaN</td>\n",
       "    </tr>\n",
       "    <tr>\n",
       "      <th>75%</th>\n",
       "      <td>NaN</td>\n",
       "      <td>NaN</td>\n",
       "      <td>2024-12-20 21:33:52.351000064</td>\n",
       "      <td>NaN</td>\n",
       "      <td>NaN</td>\n",
       "      <td>NaN</td>\n",
       "      <td>NaN</td>\n",
       "    </tr>\n",
       "    <tr>\n",
       "      <th>max</th>\n",
       "      <td>NaN</td>\n",
       "      <td>NaN</td>\n",
       "      <td>2024-12-23 09:24:03.263000</td>\n",
       "      <td>NaN</td>\n",
       "      <td>NaN</td>\n",
       "      <td>NaN</td>\n",
       "      <td>NaN</td>\n",
       "    </tr>\n",
       "  </tbody>\n",
       "</table>\n",
       "</div>"
      ],
      "text/plain": [
       "                             _id COMMENT                     CREATED_AT  \\\n",
       "count                     251836  251836                         251836   \n",
       "unique                    251836   57091                            NaN   \n",
       "top     67698900ab893ad5cda049ea       .                            NaN   \n",
       "freq                           1     287                            NaN   \n",
       "mean                         NaN     NaN  2024-12-16 19:21:54.171097600   \n",
       "min                          NaN     NaN     2024-11-21 23:59:13.068000   \n",
       "25%                          NaN     NaN  2024-12-13 09:41:07.564999936   \n",
       "50%                          NaN     NaN  2024-12-19 00:40:05.740999936   \n",
       "75%                          NaN     NaN  2024-12-20 21:33:52.351000064   \n",
       "max                          NaN     NaN     2024-12-23 09:24:03.263000   \n",
       "\n",
       "              DATE                   DATETIME  SYMBOL           UPDATED_AT  \n",
       "count       251836                     251836  251836               251836  \n",
       "unique          25                      57466      53                63455  \n",
       "top     2024-12-20  2024-12-21T00:31:45+09:00    TSLA  2024-12-14 17:19:20  \n",
       "freq         39919                         54  177673                   11  \n",
       "mean           NaN                        NaN     NaN                  NaN  \n",
       "min            NaN                        NaN     NaN                  NaN  \n",
       "25%            NaN                        NaN     NaN                  NaN  \n",
       "50%            NaN                        NaN     NaN                  NaN  \n",
       "75%            NaN                        NaN     NaN                  NaN  \n",
       "max            NaN                        NaN     NaN                  NaN  "
      ]
     },
     "execution_count": 35,
     "metadata": {},
     "output_type": "execute_result"
    }
   ],
   "source": [
    "dfData.describe(include=\"all\")"
   ]
  },
  {
   "cell_type": "code",
   "execution_count": 36,
   "metadata": {},
   "outputs": [
    {
     "data": {
      "text/html": [
       "<div>\n",
       "<style scoped>\n",
       "    .dataframe tbody tr th:only-of-type {\n",
       "        vertical-align: middle;\n",
       "    }\n",
       "\n",
       "    .dataframe tbody tr th {\n",
       "        vertical-align: top;\n",
       "    }\n",
       "\n",
       "    .dataframe thead th {\n",
       "        text-align: right;\n",
       "    }\n",
       "</style>\n",
       "<table border=\"1\" class=\"dataframe\">\n",
       "  <thead>\n",
       "    <tr style=\"text-align: right;\">\n",
       "      <th></th>\n",
       "      <th>COMMENT</th>\n",
       "      <th>CREATED_AT</th>\n",
       "      <th>DATE</th>\n",
       "      <th>DATETIME</th>\n",
       "      <th>SYMBOL</th>\n",
       "      <th>UPDATED_AT</th>\n",
       "    </tr>\n",
       "  </thead>\n",
       "  <tbody>\n",
       "    <tr>\n",
       "      <th>0</th>\n",
       "      <td>머선일이야</td>\n",
       "      <td>2024-11-21 23:59:13.068</td>\n",
       "      <td>2024-11-22</td>\n",
       "      <td>2024-11-22T01:36:32+09:00</td>\n",
       "      <td>AADI</td>\n",
       "      <td>2024-11-21 23:58:33</td>\n",
       "    </tr>\n",
       "    <tr>\n",
       "      <th>1</th>\n",
       "      <td>뭐냐 너..왜 희망 갖게하냐</td>\n",
       "      <td>2024-11-21 23:59:13.068</td>\n",
       "      <td>2024-11-22</td>\n",
       "      <td>2024-11-22T01:07:42+09:00</td>\n",
       "      <td>AADI</td>\n",
       "      <td>2024-11-21 23:58:34</td>\n",
       "    </tr>\n",
       "    <tr>\n",
       "      <th>2</th>\n",
       "      <td>몇개월 기다리다가 조금 올라서 뺏더니 잘 올라가네.. ㅠ</td>\n",
       "      <td>2024-11-21 23:59:13.068</td>\n",
       "      <td>2024-11-22</td>\n",
       "      <td>2024-11-22T01:00:04+09:00</td>\n",
       "      <td>AADI</td>\n",
       "      <td>2024-11-21 23:58:34</td>\n",
       "    </tr>\n",
       "    <tr>\n",
       "      <th>3</th>\n",
       "      <td>얘는 얼마까지 갈까요</td>\n",
       "      <td>2024-11-22 00:01:24.067</td>\n",
       "      <td>2024-11-21</td>\n",
       "      <td>2024-11-21T21:44:58+09:00</td>\n",
       "      <td>AAOI</td>\n",
       "      <td>2024-11-22 00:00:13</td>\n",
       "    </tr>\n",
       "    <tr>\n",
       "      <th>4</th>\n",
       "      <td>애플, 2026년 출시 목표로 시리 전면 개편 추진\\n\\n(주요내용)\\n1. 대규모...</td>\n",
       "      <td>2024-11-22 00:01:24.067</td>\n",
       "      <td>2024-11-22</td>\n",
       "      <td>2024-11-22T07:40:12+09:00</td>\n",
       "      <td>AAPL</td>\n",
       "      <td>2024-11-22 00:00:33</td>\n",
       "    </tr>\n",
       "    <tr>\n",
       "      <th>...</th>\n",
       "      <td>...</td>\n",
       "      <td>...</td>\n",
       "      <td>...</td>\n",
       "      <td>...</td>\n",
       "      <td>...</td>\n",
       "      <td>...</td>\n",
       "    </tr>\n",
       "    <tr>\n",
       "      <th>251831</th>\n",
       "      <td>결국엔 양전 할듯.. 잘 버팀..</td>\n",
       "      <td>2024-12-23 09:24:03.263</td>\n",
       "      <td>2024-12-21</td>\n",
       "      <td>2024-12-21T00:00:57+09:00</td>\n",
       "      <td>TSLA</td>\n",
       "      <td>2024-12-23 09:24:02</td>\n",
       "    </tr>\n",
       "    <tr>\n",
       "      <th>251832</th>\n",
       "      <td>ㅋㅋㅋ중소주 올리고 대장들 들어올려야지?</td>\n",
       "      <td>2024-12-23 09:24:03.263</td>\n",
       "      <td>2024-12-21</td>\n",
       "      <td>2024-12-21T00:00:55+09:00</td>\n",
       "      <td>TSLA</td>\n",
       "      <td>2024-12-23 09:24:02</td>\n",
       "    </tr>\n",
       "    <tr>\n",
       "      <th>251833</th>\n",
       "      <td>618 가는거아니면 사면안됨</td>\n",
       "      <td>2024-12-23 09:24:03.263</td>\n",
       "      <td>2024-12-21</td>\n",
       "      <td>2024-12-21T00:00:54+09:00</td>\n",
       "      <td>TSLA</td>\n",
       "      <td>2024-12-23 09:24:02</td>\n",
       "    </tr>\n",
       "    <tr>\n",
       "      <th>251834</th>\n",
       "      <td>양자만 올리지말고 이놈도 같이 올려라</td>\n",
       "      <td>2024-12-23 09:24:03.263</td>\n",
       "      <td>2024-12-21</td>\n",
       "      <td>2024-12-21T00:00:33+09:00</td>\n",
       "      <td>TSLA</td>\n",
       "      <td>2024-12-23 09:24:02</td>\n",
       "    </tr>\n",
       "    <tr>\n",
       "      <th>251835</th>\n",
       "      <td>근데 네마녀라는 게 오는 시간이 정해져있는건가요??</td>\n",
       "      <td>2024-12-23 09:24:03.263</td>\n",
       "      <td>2024-12-21</td>\n",
       "      <td>2024-12-21T00:00:25+09:00</td>\n",
       "      <td>TSLA</td>\n",
       "      <td>2024-12-23 09:24:02</td>\n",
       "    </tr>\n",
       "  </tbody>\n",
       "</table>\n",
       "<p>251836 rows × 6 columns</p>\n",
       "</div>"
      ],
      "text/plain": [
       "                                                  COMMENT  \\\n",
       "0                                                   머선일이야   \n",
       "1                                         뭐냐 너..왜 희망 갖게하냐   \n",
       "2                         몇개월 기다리다가 조금 올라서 뺏더니 잘 올라가네.. ㅠ   \n",
       "3                                             얘는 얼마까지 갈까요   \n",
       "4       애플, 2026년 출시 목표로 시리 전면 개편 추진\\n\\n(주요내용)\\n1. 대규모...   \n",
       "...                                                   ...   \n",
       "251831                                 결국엔 양전 할듯.. 잘 버팀..   \n",
       "251832                             ㅋㅋㅋ중소주 올리고 대장들 들어올려야지?   \n",
       "251833                                    618 가는거아니면 사면안됨   \n",
       "251834                               양자만 올리지말고 이놈도 같이 올려라   \n",
       "251835                       근데 네마녀라는 게 오는 시간이 정해져있는건가요??   \n",
       "\n",
       "                    CREATED_AT        DATE                   DATETIME SYMBOL  \\\n",
       "0      2024-11-21 23:59:13.068  2024-11-22  2024-11-22T01:36:32+09:00   AADI   \n",
       "1      2024-11-21 23:59:13.068  2024-11-22  2024-11-22T01:07:42+09:00   AADI   \n",
       "2      2024-11-21 23:59:13.068  2024-11-22  2024-11-22T01:00:04+09:00   AADI   \n",
       "3      2024-11-22 00:01:24.067  2024-11-21  2024-11-21T21:44:58+09:00   AAOI   \n",
       "4      2024-11-22 00:01:24.067  2024-11-22  2024-11-22T07:40:12+09:00   AAPL   \n",
       "...                        ...         ...                        ...    ...   \n",
       "251831 2024-12-23 09:24:03.263  2024-12-21  2024-12-21T00:00:57+09:00   TSLA   \n",
       "251832 2024-12-23 09:24:03.263  2024-12-21  2024-12-21T00:00:55+09:00   TSLA   \n",
       "251833 2024-12-23 09:24:03.263  2024-12-21  2024-12-21T00:00:54+09:00   TSLA   \n",
       "251834 2024-12-23 09:24:03.263  2024-12-21  2024-12-21T00:00:33+09:00   TSLA   \n",
       "251835 2024-12-23 09:24:03.263  2024-12-21  2024-12-21T00:00:25+09:00   TSLA   \n",
       "\n",
       "                 UPDATED_AT  \n",
       "0       2024-11-21 23:58:33  \n",
       "1       2024-11-21 23:58:34  \n",
       "2       2024-11-21 23:58:34  \n",
       "3       2024-11-22 00:00:13  \n",
       "4       2024-11-22 00:00:33  \n",
       "...                     ...  \n",
       "251831  2024-12-23 09:24:02  \n",
       "251832  2024-12-23 09:24:02  \n",
       "251833  2024-12-23 09:24:02  \n",
       "251834  2024-12-23 09:24:02  \n",
       "251835  2024-12-23 09:24:02  \n",
       "\n",
       "[251836 rows x 6 columns]"
      ]
     },
     "execution_count": 36,
     "metadata": {},
     "output_type": "execute_result"
    }
   ],
   "source": [
    "dfDataEdited = dfData.drop(labels='_id',axis=1)\n",
    "dfDataEdited"
   ]
  },
  {
   "cell_type": "code",
   "execution_count": 37,
   "metadata": {},
   "outputs": [
    {
     "data": {
      "text/plain": [
       "dict"
      ]
     },
     "execution_count": 37,
     "metadata": {},
     "output_type": "execute_result"
    }
   ],
   "source": [
    "dataToDicOnlyCommentAndDate = dfDataEdited[['COMMENT', 'DATE']].to_dict(orient=\"list\")\n",
    "dataToDicOnlyCommentAndDate\n",
    "type(dataToDicOnlyCommentAndDate)"
   ]
  },
  {
   "cell_type": "code",
   "execution_count": 38,
   "metadata": {},
   "outputs": [
    {
     "data": {
      "text/plain": [
       "dict"
      ]
     },
     "execution_count": 38,
     "metadata": {},
     "output_type": "execute_result"
    }
   ],
   "source": [
    "commentDatasList = dfDataEdited.groupby('DATE')['COMMENT'].apply(list).to_dict()\n",
    "commentDatasList\n",
    "type(commentDatasList)"
   ]
  },
  {
   "cell_type": "code",
   "execution_count": 39,
   "metadata": {},
   "outputs": [
    {
     "data": {
      "text/plain": [
       "list"
      ]
     },
     "execution_count": 39,
     "metadata": {},
     "output_type": "execute_result"
    }
   ],
   "source": [
    "dateList = dataToDicOnlyCommentAndDate['DATE']\n",
    "commentList = dataToDicOnlyCommentAndDate['COMMENT']\n",
    "# dateList\n",
    "type(dateList)"
   ]
  },
  {
   "cell_type": "code",
   "execution_count": 40,
   "metadata": {},
   "outputs": [],
   "source": [
    "from sklearn.feature_extraction.text import TfidfVectorizer # Word Embedding\n",
    "# tfidfVectorizer = TfidfVectorizer()\n",
    "tfidfVectorizerDate = TfidfVectorizer()\n",
    "tfidfVectorizerDate.fit(dateList) # 학습용\n",
    "tfidfVectorizerComment = TfidfVectorizer()\n",
    "tfidfVectorizerComment.fit(commentList) # 학습용\n",
    "dateVectors = tfidfVectorizerDate.transform(dateList) # 서비스용\n",
    "commentVectors = tfidfVectorizerComment.transform(commentList)\n",
    "# dateVectors\n",
    "# dateVectors.toarray().shape\n",
    "# tfidfVectorizer.get_feature_names_out().shape\n"
   ]
  },
  {
   "cell_type": "code",
   "execution_count": null,
   "metadata": {},
   "outputs": [],
   "source": [
    "tfidf_scores = commentVectors.toarray().sum(axis=0)\n",
    "tfidf_scores.shape"
   ]
  }
 ],
 "metadata": {
  "kernelspec": {
   "display_name": "Python 3",
   "language": "python",
   "name": "python3"
  },
  "language_info": {
   "codemirror_mode": {
    "name": "ipython",
    "version": 3
   },
   "file_extension": ".py",
   "mimetype": "text/x-python",
   "name": "python",
   "nbconvert_exporter": "python",
   "pygments_lexer": "ipython3",
   "version": "3.11.11"
  }
 },
 "nbformat": 4,
 "nbformat_minor": 2
}
