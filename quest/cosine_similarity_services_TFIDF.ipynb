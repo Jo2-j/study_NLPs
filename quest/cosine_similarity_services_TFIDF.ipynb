{
 "cells": [
  {
   "cell_type": "markdown",
   "metadata": {},
   "source": [
    "## DB연결"
   ]
  },
  {
   "cell_type": "code",
   "execution_count": 2,
   "metadata": {},
   "outputs": [],
   "source": [
    "from pymongo import MongoClient\n",
    "# 네트워크 연결 규칙 : protocol://ip:port/path \n",
    "client = MongoClient('mongodb://192.168.0.50:27017/')\n",
    "\n",
    "db = client[\"DB_SGMN\"]\n",
    "collection = db[\"COL_SCRAPPING_TOSS_COMMENT_HISTORY\"]"
   ]
  },
  {
   "cell_type": "code",
   "execution_count": 3,
   "metadata": {},
   "outputs": [],
   "source": [
    "getDatafromDB = collection.find()\n",
    "\n",
    "\n",
    "data = list(getDatafromDB)\n"
   ]
  },
  {
   "cell_type": "code",
   "execution_count": 4,
   "metadata": {},
   "outputs": [],
   "source": [
    "import pandas as pd"
   ]
  },
  {
   "cell_type": "code",
   "execution_count": 5,
   "metadata": {},
   "outputs": [],
   "source": [
    "dfData = pd.DataFrame(data)"
   ]
  },
  {
   "cell_type": "code",
   "execution_count": null,
   "metadata": {},
   "outputs": [],
   "source": [
    "dfData.info()"
   ]
  },
  {
   "cell_type": "code",
   "execution_count": null,
   "metadata": {},
   "outputs": [],
   "source": [
    "dfDataEdited = dfData.drop(labels='_id',axis=1)\n",
    "dfDataEdited"
   ]
  },
  {
   "cell_type": "code",
   "execution_count": 8,
   "metadata": {},
   "outputs": [],
   "source": [
    "dataToDicOnlyCommentAndDate = dfDataEdited[dfDataEdited['SYMBOL'] == 'TSLA'][['COMMENT', 'DATE', 'SYMBOL']].to_dict(orient=\"list\")\n"
   ]
  },
  {
   "cell_type": "code",
   "execution_count": null,
   "metadata": {},
   "outputs": [],
   "source": [
    "commentDatasList = dfDataEdited.groupby('DATE')['COMMENT'].apply(list).to_dict()\n",
    "commentDatasList\n",
    "type(commentDatasList)"
   ]
  },
  {
   "cell_type": "code",
   "execution_count": null,
   "metadata": {},
   "outputs": [],
   "source": [
    "dateList = dataToDicOnlyCommentAndDate['DATE']\n",
    "commentList = dataToDicOnlyCommentAndDate['COMMENT']\n",
    "# dateList\n",
    "type(dateList)"
   ]
  },
  {
   "cell_type": "code",
   "execution_count": null,
   "metadata": {},
   "outputs": [],
   "source": [
    "commentList\n",
    "len(commentList)"
   ]
  },
  {
   "cell_type": "markdown",
   "metadata": {},
   "source": [
    "## TF-IDF 사용 문장 유사도 작성"
   ]
  },
  {
   "cell_type": "code",
   "execution_count": 12,
   "metadata": {},
   "outputs": [],
   "source": [
    "from sklearn.feature_extraction.text import TfidfVectorizer # Word Embedding\n",
    "# tfidfVectorizer = TfidfVectorizer()\n",
    "tfidfVectorizer = TfidfVectorizer()\n",
    "tfidfVectorizer.fit(commentList) # 학습용\n",
    "result_vectors = tfidfVectorizer.transform(commentList) # 서비스용\n"
   ]
  },
  {
   "cell_type": "code",
   "execution_count": null,
   "metadata": {},
   "outputs": [],
   "source": [
    "result_vectors.toarray().shape"
   ]
  },
  {
   "cell_type": "code",
   "execution_count": null,
   "metadata": {},
   "outputs": [],
   "source": [
    "result_vectors.toarray().shape, tfidfVectorizer.get_feature_names_out().shape"
   ]
  },
  {
   "cell_type": "code",
   "execution_count": 15,
   "metadata": {},
   "outputs": [],
   "source": [
    "vectors_100 = result_vectors[:100]"
   ]
  },
  {
   "cell_type": "code",
   "execution_count": null,
   "metadata": {},
   "outputs": [],
   "source": [
    "## 문장간 유사도 측정\n",
    "\n",
    "from sklearn.metrics.pairwise import cosine_similarity\n",
    "df_similarity = cosine_similarity(vectors_100, vectors_100)\n",
    "df_similarity"
   ]
  },
  {
   "cell_type": "code",
   "execution_count": null,
   "metadata": {},
   "outputs": [],
   "source": [
    "import pandas as pd\n",
    "\n",
    "pd.DataFrame(data=df_similarity\n",
    "\n",
    ", index=commentList[:100]\n",
    ", columns=commentList[:100]\n",
    ")"
   ]
  },
  {
   "cell_type": "code",
   "execution_count": null,
   "metadata": {},
   "outputs": [],
   "source": [
    "# new_sentence = '가상현실(VR)과 증강현실(AR) 기술은 엔터테인먼트, 교육, 의료 등 다양한 분야에서 새로운 경험을 제공한다.'\n",
    "new_sentence = '테슬라는 신이야'\n",
    "\n",
    "new_tfidfVectorization = tfidfVectorizer.transform([new_sentence]) # Vocabulary 기준 Imbedding 전환\n",
    "new_tfidfVectorization"
   ]
  },
  {
   "cell_type": "code",
   "execution_count": null,
   "metadata": {},
   "outputs": [],
   "source": [
    "similarity_array = cosine_similarity(new_tfidfVectorization, result_vectors)\n",
    "argmax_similarity = similarity_array.argmax()\n",
    "commentList[argmax_similarity]"
   ]
  }
 ],
 "metadata": {
  "kernelspec": {
   "display_name": "Python 3",
   "language": "python",
   "name": "python3"
  },
  "language_info": {
   "codemirror_mode": {
    "name": "ipython",
    "version": 3
   },
   "file_extension": ".py",
   "mimetype": "text/x-python",
   "name": "python",
   "nbconvert_exporter": "python",
   "pygments_lexer": "ipython3",
   "version": "3.11.11"
  }
 },
 "nbformat": 4,
 "nbformat_minor": 2
}
