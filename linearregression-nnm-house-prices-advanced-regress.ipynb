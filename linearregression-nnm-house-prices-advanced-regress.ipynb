{
 "cells": [
  {
   "cell_type": "code",
   "execution_count": 1,
   "id": "1abb9845",
   "metadata": {
    "_cell_guid": "b1076dfc-b9ad-4769-8c92-a6c4dae69d19",
    "_uuid": "8f2839f25d086af736a60e9eeb907d3b93b6e0e5",
    "execution": {
     "iopub.execute_input": "2025-02-03T05:36:00.558352Z",
     "iopub.status.busy": "2025-02-03T05:36:00.557867Z",
     "iopub.status.idle": "2025-02-03T05:36:03.763636Z",
     "shell.execute_reply": "2025-02-03T05:36:03.762594Z"
    },
    "papermill": {
     "duration": 3.211147,
     "end_time": "2025-02-03T05:36:03.765463",
     "exception": false,
     "start_time": "2025-02-03T05:36:00.554316",
     "status": "completed"
    },
    "tags": []
   },
   "outputs": [],
   "source": [
    "import numpy as np # linear algebra\n",
    "import pandas as pd # data processing, CSV file I/O (e.g. pd.read_csv)\n",
    "from sklearn.ensemble import RandomForestClassifier"
   ]
  },
  {
   "cell_type": "code",
   "execution_count": 2,
   "id": "ee695c3a",
   "metadata": {
    "execution": {
     "iopub.execute_input": "2025-02-03T05:36:03.771164Z",
     "iopub.status.busy": "2025-02-03T05:36:03.770620Z",
     "iopub.status.idle": "2025-02-03T05:36:03.844407Z",
     "shell.execute_reply": "2025-02-03T05:36:03.843420Z"
    },
    "papermill": {
     "duration": 0.078467,
     "end_time": "2025-02-03T05:36:03.846291",
     "exception": false,
     "start_time": "2025-02-03T05:36:03.767824",
     "status": "completed"
    },
    "tags": []
   },
   "outputs": [],
   "source": [
    "train_data = pd.read_csv(\"/kaggle/input/house-prices-advanced-regression-techniques/train.csv\")\n",
    "# train_data.head()\n",
    "test_data = pd.read_csv(\"/kaggle/input/house-prices-advanced-regression-techniques/test.csv\")\n",
    "# test_data.head()\n"
   ]
  },
  {
   "cell_type": "code",
   "execution_count": 3,
   "id": "baf96e91",
   "metadata": {
    "execution": {
     "iopub.execute_input": "2025-02-03T05:36:03.851783Z",
     "iopub.status.busy": "2025-02-03T05:36:03.851416Z",
     "iopub.status.idle": "2025-02-03T05:36:05.549454Z",
     "shell.execute_reply": "2025-02-03T05:36:05.548217Z"
    },
    "papermill": {
     "duration": 1.703341,
     "end_time": "2025-02-03T05:36:05.551656",
     "exception": false,
     "start_time": "2025-02-03T05:36:03.848315",
     "status": "completed"
    },
    "tags": []
   },
   "outputs": [
    {
     "name": "stdout",
     "output_type": "stream",
     "text": [
      "Your submission was successfully saved!\n"
     ]
    }
   ],
   "source": [
    "y = train_data[\"SalePrice\"]\n",
    "features = [\"LotArea\", \"YearBuilt\", \"2ndFlrSF\"]\n",
    "X = pd.get_dummies(train_data[features])\n",
    "X_test = pd.get_dummies(test_data[features])\n",
    "model = RandomForestClassifier(n_estimators=100, max_depth=5, random_state=1)\n",
    "model.fit(X, y)\n",
    "predictions = model.predict(X_test)\n",
    "output = pd.DataFrame({'Id': test_data.Id, 'SalePrice': predictions})\n",
    "output.to_csv('submission.csv', index=False)\n",
    "print(\"Your submission was successfully saved!\")"
   ]
  },
  {
   "cell_type": "code",
   "execution_count": null,
   "id": "e70cc381",
   "metadata": {
    "papermill": {
     "duration": 0.001684,
     "end_time": "2025-02-03T05:36:05.555561",
     "exception": false,
     "start_time": "2025-02-03T05:36:05.553877",
     "status": "completed"
    },
    "tags": []
   },
   "outputs": [],
   "source": []
  }
 ],
 "metadata": {
  "kaggle": {
   "accelerator": "none",
   "dataSources": [
    {
     "databundleVersionId": 868283,
     "sourceId": 5407,
     "sourceType": "competition"
    }
   ],
   "dockerImageVersionId": 30839,
   "isGpuEnabled": false,
   "isInternetEnabled": false,
   "language": "python",
   "sourceType": "notebook"
  },
  "kernelspec": {
   "display_name": "Python 3",
   "language": "python",
   "name": "python3"
  },
  "language_info": {
   "codemirror_mode": {
    "name": "ipython",
    "version": 3
   },
   "file_extension": ".py",
   "mimetype": "text/x-python",
   "name": "python",
   "nbconvert_exporter": "python",
   "pygments_lexer": "ipython3",
   "version": "3.10.12"
  },
  "papermill": {
   "default_parameters": {},
   "duration": 8.571525,
   "end_time": "2025-02-03T05:36:06.277858",
   "environment_variables": {},
   "exception": null,
   "input_path": "__notebook__.ipynb",
   "output_path": "__notebook__.ipynb",
   "parameters": {},
   "start_time": "2025-02-03T05:35:57.706333",
   "version": "2.6.0"
  }
 },
 "nbformat": 4,
 "nbformat_minor": 5
}
